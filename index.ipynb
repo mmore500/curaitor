{
 "cells": [
  {
   "cell_type": "code",
   "execution_count": 1,
   "metadata": {
    "execution": {
     "iopub.execute_input": "2024-06-24T14:33:55.534634Z",
     "iopub.status.busy": "2024-06-24T14:33:55.534451Z",
     "iopub.status.idle": "2024-06-24T14:33:55.812494Z",
     "shell.execute_reply": "2024-06-24T14:33:55.811798Z"
    }
   },
   "outputs": [],
   "source": [
    "import pandas as pd"
   ]
  },
  {
   "cell_type": "markdown",
   "metadata": {},
   "source": [
    "TODO\n"
   ]
  },
  {
   "cell_type": "code",
   "execution_count": 2,
   "metadata": {
    "execution": {
     "iopub.execute_input": "2024-06-24T14:33:55.815806Z",
     "iopub.status.busy": "2024-06-24T14:33:55.815295Z",
     "iopub.status.idle": "2024-06-24T14:33:55.818070Z",
     "shell.execute_reply": "2024-06-24T14:33:55.817525Z"
    }
   },
   "outputs": [],
   "source": [
    "# TODO"
   ]
  }
 ],
 "metadata": {
  "kernelspec": {
   "display_name": "Python 3",
   "language": "python",
   "name": "python3"
  },
  "language_info": {
   "codemirror_mode": {
    "name": "ipython",
    "version": 3
   },
   "file_extension": ".py",
   "mimetype": "text/x-python",
   "name": "python",
   "nbconvert_exporter": "python",
   "pygments_lexer": "ipython3",
   "version": "3.10.12"
  }
 },
 "nbformat": 4,
 "nbformat_minor": 4
}
