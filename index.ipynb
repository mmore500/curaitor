{
 "cells": [
  {
   "cell_type": "code",
   "execution_count": 1,
   "metadata": {
    "execution": {
     "iopub.execute_input": "2024-06-23T00:26:02.278964Z",
     "iopub.status.busy": "2024-06-23T00:26:02.278541Z",
     "iopub.status.idle": "2024-06-23T00:26:02.513110Z",
     "shell.execute_reply": "2024-06-23T00:26:02.512595Z"
    }
   },
   "outputs": [],
   "source": [
    "import pandas as pd"
   ]
  },
  {
   "cell_type": "markdown",
   "metadata": {},
   "source": [
    "TODO\n"
   ]
  },
  {
   "cell_type": "code",
   "execution_count": 2,
   "metadata": {
    "execution": {
     "iopub.execute_input": "2024-06-23T00:26:02.515980Z",
     "iopub.status.busy": "2024-06-23T00:26:02.515534Z",
     "iopub.status.idle": "2024-06-23T00:26:02.518189Z",
     "shell.execute_reply": "2024-06-23T00:26:02.517692Z"
    }
   },
   "outputs": [],
   "source": [
    "# TODO"
   ]
  }
 ],
 "metadata": {
  "kernelspec": {
   "display_name": "Python 3",
   "language": "python",
   "name": "python3"
  },
  "language_info": {
   "codemirror_mode": {
    "name": "ipython",
    "version": 3
   },
   "file_extension": ".py",
   "mimetype": "text/x-python",
   "name": "python",
   "nbconvert_exporter": "python",
   "pygments_lexer": "ipython3",
   "version": "3.10.12"
  }
 },
 "nbformat": 4,
 "nbformat_minor": 4
}
