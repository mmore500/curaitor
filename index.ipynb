{
 "cells": [
  {
   "cell_type": "code",
   "execution_count": 1,
   "metadata": {
    "execution": {
     "iopub.execute_input": "2024-06-20T16:45:55.769108Z",
     "iopub.status.busy": "2024-06-20T16:45:55.768933Z",
     "iopub.status.idle": "2024-06-20T16:45:56.011889Z",
     "shell.execute_reply": "2024-06-20T16:45:56.011376Z"
    }
   },
   "outputs": [],
   "source": [
    "import pandas as pd"
   ]
  },
  {
   "cell_type": "markdown",
   "metadata": {},
   "source": [
    "TODO\n"
   ]
  },
  {
   "cell_type": "code",
   "execution_count": 2,
   "metadata": {
    "execution": {
     "iopub.execute_input": "2024-06-20T16:45:56.014734Z",
     "iopub.status.busy": "2024-06-20T16:45:56.014289Z",
     "iopub.status.idle": "2024-06-20T16:45:56.017018Z",
     "shell.execute_reply": "2024-06-20T16:45:56.016494Z"
    }
   },
   "outputs": [],
   "source": [
    "# TODO"
   ]
  }
 ],
 "metadata": {
  "kernelspec": {
   "display_name": "Python 3",
   "language": "python",
   "name": "python3"
  },
  "language_info": {
   "codemirror_mode": {
    "name": "ipython",
    "version": 3
   },
   "file_extension": ".py",
   "mimetype": "text/x-python",
   "name": "python",
   "nbconvert_exporter": "python",
   "pygments_lexer": "ipython3",
   "version": "3.10.12"
  }
 },
 "nbformat": 4,
 "nbformat_minor": 4
}
