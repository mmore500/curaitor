{
 "cells": [
  {
   "cell_type": "code",
   "execution_count": 1,
   "metadata": {
    "execution": {
     "iopub.execute_input": "2024-06-24T13:08:58.129910Z",
     "iopub.status.busy": "2024-06-24T13:08:58.129718Z",
     "iopub.status.idle": "2024-06-24T13:08:58.366808Z",
     "shell.execute_reply": "2024-06-24T13:08:58.366230Z"
    }
   },
   "outputs": [],
   "source": [
    "import pandas as pd"
   ]
  },
  {
   "cell_type": "markdown",
   "metadata": {},
   "source": [
    "TODO\n"
   ]
  },
  {
   "cell_type": "code",
   "execution_count": 2,
   "metadata": {
    "execution": {
     "iopub.execute_input": "2024-06-24T13:08:58.369665Z",
     "iopub.status.busy": "2024-06-24T13:08:58.369416Z",
     "iopub.status.idle": "2024-06-24T13:08:58.372217Z",
     "shell.execute_reply": "2024-06-24T13:08:58.371715Z"
    }
   },
   "outputs": [],
   "source": [
    "# TODO"
   ]
  }
 ],
 "metadata": {
  "kernelspec": {
   "display_name": "Python 3",
   "language": "python",
   "name": "python3"
  },
  "language_info": {
   "codemirror_mode": {
    "name": "ipython",
    "version": 3
   },
   "file_extension": ".py",
   "mimetype": "text/x-python",
   "name": "python",
   "nbconvert_exporter": "python",
   "pygments_lexer": "ipython3",
   "version": "3.10.12"
  }
 },
 "nbformat": 4,
 "nbformat_minor": 4
}
