{
 "cells": [
  {
   "cell_type": "code",
   "execution_count": 2,
   "metadata": {
    "execution": {
     "iopub.execute_input": "2024-06-24T14:50:15.236245Z",
     "iopub.status.busy": "2024-06-24T14:50:15.236056Z",
     "iopub.status.idle": "2024-06-24T14:50:15.981408Z",
     "shell.execute_reply": "2024-06-24T14:50:15.980769Z"
    }
   },
   "outputs": [],
   "source": [
    "import os\n",
    "\n",
    "# os.makedirs(\"articles/review\", exist_ok=True)\n",
    "\n",
    "from script.cropPage import *\n",
    "from script.textMining import *\n",
    "from script.textSegments import *\n",
    "from script.queryText import *"
   ]
  },
  {
   "cell_type": "code",
   "execution_count": 3,
   "metadata": {},
   "outputs": [
    {
     "name": "stdout",
     "output_type": "stream",
     "text": [
      "/Users/riteshk/Library/CloudStorage/Box-Box/Research-postdoc/oxRSE-project/curaitor\n"
     ]
    },
    {
     "name": "stdout",
     "output_type": "stream",
     "text": [
      "total 240\n",
      "-rw-r--r--   1 riteshk  staff   5483 Jun 24 16:06 code_of_conduct.md\n",
      "-rwxr-xr-x   1 riteshk  staff     34 Jun 24 16:06 \u001b[31mlint.sh\u001b[m\u001b[m\n",
      "-rw-r--r--   1 riteshk  staff    214 Jun 24 16:06 pyproject.toml\n",
      "-rwxr-xr-x   1 riteshk  staff    393 Jun 24 16:06 \u001b[31mstyle.sh\u001b[m\u001b[m\n",
      "-rwxr-xr-x   1 riteshk  staff     43 Jun 24 16:06 \u001b[31mtest.sh\u001b[m\u001b[m\n",
      "drwxr-xr-x   7 riteshk  staff    224 Jun 25 23:45 \u001b[34mcuraitor\u001b[m\u001b[m\n",
      "drwxr-xr-x   4 riteshk  staff    128 Jun 27 17:14 \u001b[34marticles\u001b[m\u001b[m\n",
      "-rw-r--r--   1 riteshk  staff   1594 Jun 27 17:14 output_table.csv\n",
      "drwxr-xr-x   7 riteshk  staff    224 Jun 27 17:21 \u001b[34mtest\u001b[m\u001b[m\n",
      "drwxr-xr-x  13 riteshk  staff    416 Jun 27 17:21 \u001b[34mbinder\u001b[m\u001b[m\n",
      "-rw-r--r--   1 riteshk  staff  35149 Jun 27 17:21 LICENSE\n",
      "-rw-r--r--@  1 riteshk  staff   1819 Jun 27 17:21 README.md\n",
      "-rw-r--r--   1 riteshk  staff   3380 Jun 27 17:21 curaitor_linux_env.yml\n",
      "-rw-r--r--   1 riteshk  staff   1737 Jun 27 17:21 prompts.yml\n",
      "-rw-r--r--   1 riteshk  staff    288 Jun 27 17:21 requirements-dev.in\n",
      "-rwxr-xr-x   1 riteshk  staff     74 Jun 27 17:21 \u001b[31mrequirements-dev.sh\u001b[m\u001b[m\n",
      "-rw-r--r--@  1 riteshk  staff  11652 Jun 27 17:21 requirements-dev.txt\n",
      "-rwxr-xr-x   1 riteshk  staff    398 Jun 27 17:21 \u001b[31mvalidate.py\u001b[m\u001b[m\n",
      "drwxr-xr-x  14 riteshk  staff    448 Jun 27 17:21 \u001b[34mdocs\u001b[m\u001b[m\n",
      "drwxr-xr-x   9 riteshk  staff    288 Jun 27 17:47 \u001b[34mscript\u001b[m\u001b[m\n",
      "-rw-r--r--@  1 riteshk  staff  19159 Jun 27 17:47 pipeline.ipynb\n"
     ]
    }
   ],
   "source": [
    "%%bash\n",
    "pwd\n",
    "ls -ltr"
   ]
  },
  {
   "cell_type": "code",
   "execution_count": 2,
   "metadata": {
    "execution": {
     "iopub.execute_input": "2024-06-24T14:50:15.984410Z",
     "iopub.status.busy": "2024-06-24T14:50:15.983918Z",
     "iopub.status.idle": "2024-06-24T14:50:18.702760Z",
     "shell.execute_reply": "2024-06-24T14:50:18.702195Z"
    }
   },
   "outputs": [],
   "source": [
    "import requests\n",
    "\n",
    "url = \"https://vuir.vu.edu.au/43558/1/Ep43558.pdf\"\n",
    "\n",
    "# Extract filename and append '.pdf'\n",
    "filename = url.split(\"/\")[-1]\n",
    "\n",
    "# Full path where the file will be saved\n",
    "path = os.path.join(\"articles\", filename)\n",
    "\n",
    "# Send a GET request to the URL with headers\n",
    "response = requests.get(url, stream=True)\n",
    "\n",
    "# Save the file if the request was successful\n",
    "assert response.status_code == 200, response.status_code\n",
    "\n",
    "with open(path, \"wb\") as f:\n",
    "    for chunk in response.iter_content(chunk_size=8192):\n",
    "        f.write(chunk)"
   ]
  },
  {
   "cell_type": "markdown",
   "metadata": {},
   "source": [
    "## 1) Crop page\n"
   ]
  },
  {
   "cell_type": "code",
   "execution_count": 4,
   "metadata": {
    "execution": {
     "iopub.execute_input": "2024-06-24T14:50:18.705250Z",
     "iopub.status.busy": "2024-06-24T14:50:18.705059Z",
     "iopub.status.idle": "2024-06-24T14:50:19.559243Z",
     "shell.execute_reply": "2024-06-24T14:50:19.558610Z"
    }
   },
   "outputs": [
    {
     "name": "stderr",
     "output_type": "stream",
     "text": [
      "Processing files:   0%|          | 0/5 [00:00<?, ?it/s]"
     ]
    },
    {
     "name": "stdout",
     "output_type": "stream",
     "text": [
      "../curator/pdfsToMine/Bazgir_2016.pdf\n",
      "document has 12 pages.\n"
     ]
    },
    {
     "name": "stderr",
     "output_type": "stream",
     "text": [
      "Processing files (Processed: 1/5):  20%|██        | 1/5 [00:00<00:02,  1.72it/s]"
     ]
    },
    {
     "name": "stdout",
     "output_type": "stream",
     "text": [
      "../curator/pdfsToMine/Babaeijandaghi_2022TNF.pdf\n",
      "document has 12 pages.\n"
     ]
    },
    {
     "name": "stderr",
     "output_type": "stream",
     "text": [
      "Processing files (Processed: 3/5):  40%|████      | 2/5 [00:01<00:02,  1.38it/s]"
     ]
    },
    {
     "name": "stdout",
     "output_type": "stream",
     "text": [
      "../curator/pdfsToMine/Broatch_2021.pdf\n",
      "document has 19 pages.\n"
     ]
    },
    {
     "name": "stderr",
     "output_type": "stream",
     "text": [
      "Processing files (Processed: 4/5):  80%|████████  | 4/5 [00:01<00:00,  2.30it/s]"
     ]
    },
    {
     "name": "stdout",
     "output_type": "stream",
     "text": [
      "../curator/pdfsToMine/Mackey_MN_2009_SC.pdf\n",
      "document has 11 pages.\n"
     ]
    },
    {
     "name": "stderr",
     "output_type": "stream",
     "text": [
      "Processing files (Processed: 5/5): 100%|██████████| 5/5 [00:02<00:00,  2.45it/s]"
     ]
    },
    {
     "name": "stdout",
     "output_type": "stream",
     "text": [
      "../curator/pdfsToMine/Best_etal_1995.pdf\n",
      "document has 4 pages.\n"
     ]
    },
    {
     "name": "stderr",
     "output_type": "stream",
     "text": [
      "Processing files (Processed: 6/5): : 6it [00:02,  2.28it/s]                     \n"
     ]
    }
   ],
   "source": [
    "# Directory containing PDFs to process\n",
    "# pdfsDirectory = \"articles\"\n",
    "pdfsDirectory = \"../curator/pdfsToMine/\"\n",
    "totalFiles = len(os.listdir(pdfsDirectory))\n",
    "\n",
    "# Output directory for cleaned text files\n",
    "outputDirectory = os.path.join(pdfsDirectory, \"output\")\n",
    "\n",
    "# Crop a\n",
    "# ll PDFs in the directory\n",
    "cropAllPdfs(pdfsDirectory, outputDirectory, totalFiles)\n",
    "\n",
    "# Test single PDF\n",
    "# pdfPath= \"review/1-s2.0-S0143416016300094-main.pdf\"\n",
    "# cropPDFMargins(pdfPath, outputDirectory)"
   ]
  },
  {
   "cell_type": "markdown",
   "metadata": {},
   "source": [
    "## 2) Extract text\n",
    "\n",
    "Table not working yet\n"
   ]
  },
  {
   "cell_type": "code",
   "execution_count": 5,
   "metadata": {
    "execution": {
     "iopub.execute_input": "2024-06-24T14:50:19.561694Z",
     "iopub.status.busy": "2024-06-24T14:50:19.561332Z",
     "iopub.status.idle": "2024-06-24T14:50:21.078237Z",
     "shell.execute_reply": "2024-06-24T14:50:21.077597Z"
    }
   },
   "outputs": [
    {
     "name": "stderr",
     "output_type": "stream",
     "text": [
      "Mining PDFs:   0%|          | 0/5 [00:00<?, ?it/s]"
     ]
    },
    {
     "name": "stdout",
     "output_type": "stream",
     "text": [
      "Bazgir_2016_cropped.pdf\n"
     ]
    },
    {
     "name": "stderr",
     "output_type": "stream",
     "text": [
      "Mining PDFs:  20%|██        | 1/5 [00:00<00:03,  1.15it/s]"
     ]
    },
    {
     "name": "stdout",
     "output_type": "stream",
     "text": [
      "Cleaned text has been written to file: ../curator/pdfsToMine/output/textOutput/Bazgir_2016_cropped_output_text.txt\n",
      "Broatch_2021_cropped.pdf\n"
     ]
    },
    {
     "name": "stderr",
     "output_type": "stream",
     "text": [
      "Mining PDFs:  40%|████      | 2/5 [00:01<00:02,  1.03it/s]"
     ]
    },
    {
     "name": "stdout",
     "output_type": "stream",
     "text": [
      "Cleaned text has been written to file: ../curator/pdfsToMine/output/textOutput/Broatch_2021_cropped_output_text.txt\n",
      "Best_etal_1995_cropped.pdf\n"
     ]
    },
    {
     "name": "stderr",
     "output_type": "stream",
     "text": [
      "Mining PDFs:  60%|██████    | 3/5 [00:02<00:01,  1.03it/s]"
     ]
    },
    {
     "name": "stdout",
     "output_type": "stream",
     "text": [
      "Cleaned text has been written to file: ../curator/pdfsToMine/output/textOutput/Best_etal_1995_cropped_output_text.txt\n",
      "Mackey_MN_2009_SC_cropped.pdf\n"
     ]
    },
    {
     "name": "stderr",
     "output_type": "stream",
     "text": [
      "Mining PDFs:  80%|████████  | 4/5 [00:03<00:00,  1.25it/s]"
     ]
    },
    {
     "name": "stdout",
     "output_type": "stream",
     "text": [
      "Cleaned text has been written to file: ../curator/pdfsToMine/output/textOutput/Mackey_MN_2009_SC_cropped_output_text.txt\n",
      "Babaeijandaghi_2022TNF_cropped.pdf\n"
     ]
    },
    {
     "name": "stderr",
     "output_type": "stream",
     "text": [
      "Mining PDFs: 100%|██████████| 5/5 [00:04<00:00,  1.02it/s]"
     ]
    },
    {
     "name": "stdout",
     "output_type": "stream",
     "text": [
      "Cleaned text has been written to file: ../curator/pdfsToMine/output/textOutput/Babaeijandaghi_2022TNF_cropped_output_text.txt\n",
      "Cleaning Broatch_2021_cropped_output_text.txt...\n",
      "Broatch_2021_cropped_output_text.txt has been cleaned.\n",
      "Cleaning Mackey_MN_2009_SC_cropped_output_text.txt...\n",
      "Mackey_MN_2009_SC_cropped_output_text.txt has been cleaned.\n",
      "Cleaning Bazgir_2016_cropped_output_text.txt...\n",
      "Bazgir_2016_cropped_output_text.txt has been cleaned.\n",
      "Cleaning Babaeijandaghi_2022TNF_cropped_output_text.txt...\n",
      "Babaeijandaghi_2022TNF_cropped_output_text.txt has been cleaned.\n",
      "Cleaning Best_etal_1995_cropped_output_text.txt...\n",
      "Best_etal_1995_cropped_output_text.txt has been cleaned.\n"
     ]
    },
    {
     "name": "stderr",
     "output_type": "stream",
     "text": [
      "\n"
     ]
    }
   ],
   "source": [
    "# Directory containing your text files\n",
    "# text_files_directory = \"articles/output/textOutput\"\n",
    "text_files_directory = \"../curator/pdfsToMine/output/textOutput\"\n",
    "\n",
    "# Directory containing PDFs to process\n",
    "# pdfs_directory = \"articles/output\"\n",
    "pdfs_directory = \"../curator/pdfsToMine/output\"\n",
    "\n",
    "# Output directory for cleaned text files\n",
    "output_directory = os.path.join(pdfs_directory, \"textOutput\")\n",
    "\n",
    "# Process all PDFs in the directory\n",
    "process_all_pdfs(pdfs_directory, output_directory)\n",
    "process_text_files(text_files_directory)"
   ]
  },
  {
   "cell_type": "markdown",
   "metadata": {},
   "source": [
    "## 3) Text segment\n",
    "\n",
    "Get embeddings\n"
   ]
  },
  {
   "cell_type": "code",
   "execution_count": 2,
   "metadata": {
    "execution": {
     "iopub.execute_input": "2024-06-24T14:50:21.080844Z",
     "iopub.status.busy": "2024-06-24T14:50:21.080485Z",
     "iopub.status.idle": "2024-06-24T14:50:26.372513Z",
     "shell.execute_reply": "2024-06-24T14:50:26.371894Z"
    }
   },
   "outputs": [
    {
     "name": "stderr",
     "output_type": "stream",
     "text": [
      "Processing files: 100%|██████████| 5/5 [00:00<00:00, 20.04it/s]\n"
     ]
    },
    {
     "name": "stdout",
     "output_type": "stream",
     "text": [
      "Adding embeddings...\n",
      "Saving data...\n",
      "Data saved successfully.\n"
     ]
    }
   ],
   "source": [
    "# List of PDF file names\n",
    "txt_directory = \"../curator/pdfsToMine/output/textOutput\"\n",
    "output_text_directory = \"../curator/pdfsToMine/text_output\"\n",
    "# Configure OpenAI API key\n",
    "key_file_path = \"api_key\"\n",
    "\n",
    "if \"OPENAI_API_KEY\" in os.environ:\n",
    "    with open(key_file_path, \"w\") as f:\n",
    "        f.write(os.environ[\"OPENAI_API_KEY\"])\n",
    "\n",
    "process_files(txt_directory, output_text_directory, key_file_path, llm=\"Ollama-llama3\")"
   ]
  },
  {
   "cell_type": "markdown",
   "metadata": {},
   "source": [
    "## 4) Query text\n"
   ]
  },
  {
   "cell_type": "code",
   "execution_count": 2,
   "metadata": {},
   "outputs": [],
   "source": [
    "query_text = (\n",
    "    \"Describe the involvement and interactions of any cell types such as satellite cells, fibroblasts, \"\n",
    "    \"macrophages, neutrophils, or cytokines such as TNF-a, IL-6 etc, or growth factors TGF-B, IGF-1 etc, in the process of muscle repair and regeneration.\"\n",
    "    \"Also describe any interactions between cells or of cell secretions on other cell types, or of growth factors and cytokines on tissues\"\n",
    ")"
   ]
  },
  {
   "cell_type": "code",
   "execution_count": 3,
   "metadata": {},
   "outputs": [],
   "source": [
    "prompt = (\n",
    "    \"Using the context provided below, elaborate on the roles played by different cell types as if you were creating rules for an agent-based model \"\n",
    "    \"and factors in muscle repair and regeneration. Structure your response in a table with three columns: \"\n",
    "    \"1) Embedding numbers, 2) Source text name, and 3) Detailed roles and interactions of cell types like \"\n",
    "    \"satellite cells, fibroblasts, macrophages, neutrophils, cytokines, and growth factors. Provide multiple entries \"\n",
    "    \"for each cell type or cytokine or growth factor mentioned, focusing on their specific effects during the cell cycle phases and their interactions during the process of muscle repair.\\n\\n\"\n",
    "    # f\"Context: {relevant_text}\"\n",
    ")"
   ]
  },
  {
   "cell_type": "code",
   "execution_count": 4,
   "metadata": {},
   "outputs": [
    {
     "name": "stdout",
     "output_type": "stream",
     "text": [
      "Here is a table outlining the roles played by different cell types during muscle repair and regeneration:\n",
      "\n",
      "| Embedding numbers | Source text name | Detailed roles and interactions of cell types |\n",
      "| --- | --- | --- |\n",
      "| 1 | Amadio et al. (1992) | Satellite cells: Quiescent in normal conditions, activated upon injury to proliferate and differentiate into myoblasts. Interact with fibroblasts to produce ECM proteins for muscle regeneration. |\n",
      "| 2 | Amadio et al. (1992) | Fibroblasts: Produce ECM proteins such as collagen and fibronectin to support muscle regeneration. Interact with satellite cells to facilitate their activation and differentiation. |\n",
      "| 3 | Best et al. (1994) | Macrophages: Phagocytose damaged muscle tissue and debris, promoting clearance and regeneration. Produce cytokines that stimulate the immune response and modulate inflammation. |\n",
      "| 4 | Butler et al. (1984) | Neutrophils: Initially respond to injury by phagocytosing bacteria and other foreign substances, but can also contribute to tissue damage through release of reactive oxygen species. |\n",
      "| 5 | Crowninshield et al. (1976) | Cytokines (e.g., TNF-α, IL-1β): Released by activated immune cells, such as macrophages and neutrophils, to modulate the immune response and promote inflammation. Can also stimulate fibroblast activation and ECM production. |\n",
      "| 6 | Durelli et al. (1958) | Growth factors (e.g., PDGF, FGF): Released by activated immune cells and platelets to stimulate fibroblast proliferation and migration, promoting ECM production and tissue repair. |\n",
      "| 7 | Fischer (1932) | Myoblasts: Differentiated from satellite cells, these cells proliferate and fuse to form new muscle fibers. Interact with ECM proteins produced by fibroblasts to support muscle regeneration. |\n",
      "\n",
      "During the cell cycle phases:\n",
      "\n",
      "* G0/G1 phase: Satellite cells are quiescent, while fibroblasts are producing ECM proteins.\n",
      "* S phase: Satellite cells proliferate to produce more myoblasts, while fibroblasts continue to produce ECM proteins.\n",
      "* G2/M phase: Myoblasts differentiate into new muscle fibers, which then mature and align with existing muscle fibers.\n",
      "\n",
      "Interactions during the process of muscle repair:\n",
      "\n",
      "* Satellite cells interact with fibroblasts to facilitate their activation and differentiation.\n",
      "* Macrophages and neutrophils release cytokines that stimulate the immune response and modulate inflammation.\n",
      "* Cytokines released by macrophages and neutrophils can also stimulate fibroblast activation and ECM production.\n",
      "* Growth factors released by platelets and immune cells stimulate fibroblast proliferation and migration, promoting ECM production and tissue repair.\n",
      "\n",
      "Note: This table provides a general overview of the roles played by different cell types during muscle repair and regeneration. The specific interactions and effects may vary depending on the context and injury severity.\n",
      "Data saved to output_table.csv\n"
     ]
    }
   ],
   "source": [
    "query_llm(query_text, prompt, llm=\"Ollama-llama3\")"
   ]
  },
  {
   "cell_type": "markdown",
   "metadata": {},
   "source": [
    "# Testing on batteries data"
   ]
  },
  {
   "cell_type": "code",
   "execution_count": 4,
   "metadata": {},
   "outputs": [
    {
     "name": "stderr",
     "output_type": "stream",
     "text": [
      "Processing files (Processed: 1/33):   0%|          | 0/33 [00:00<?, ?it/s]"
     ]
    },
    {
     "name": "stdout",
     "output_type": "stream",
     "text": [
      "../batteries/9.pdf\n",
      "document has 7 pages.\n"
     ]
    },
    {
     "name": "stderr",
     "output_type": "stream",
     "text": [
      "Processing files (Processed: 2/33):   6%|▌         | 2/33 [00:00<00:08,  3.44it/s]"
     ]
    },
    {
     "name": "stdout",
     "output_type": "stream",
     "text": [
      "../batteries/8.pdf\n",
      "document has 16 pages.\n"
     ]
    },
    {
     "name": "stderr",
     "output_type": "stream",
     "text": [
      "Processing files (Processed: 3/33):   9%|▉         | 3/33 [00:01<00:12,  2.40it/s]"
     ]
    },
    {
     "name": "stdout",
     "output_type": "stream",
     "text": [
      "../batteries/16.pdf\n",
      "document has 10 pages.\n"
     ]
    },
    {
     "name": "stderr",
     "output_type": "stream",
     "text": [
      "Processing files (Processed: 4/33):  12%|█▏        | 4/33 [00:01<00:11,  2.43it/s]"
     ]
    },
    {
     "name": "stdout",
     "output_type": "stream",
     "text": [
      "../batteries/17.pdf\n",
      "document has 13 pages.\n"
     ]
    },
    {
     "name": "stderr",
     "output_type": "stream",
     "text": [
      "Processing files (Processed: 5/33):  15%|█▌        | 5/33 [00:02<00:14,  1.91it/s]"
     ]
    },
    {
     "name": "stdout",
     "output_type": "stream",
     "text": [
      "../batteries/29.pdf\n",
      "document has 8 pages.\n"
     ]
    },
    {
     "name": "stderr",
     "output_type": "stream",
     "text": [
      "Processing files (Processed: 6/33):  18%|█▊        | 6/33 [00:02<00:13,  2.06it/s]"
     ]
    },
    {
     "name": "stdout",
     "output_type": "stream",
     "text": [
      "../batteries/15.pdf\n",
      "document has 10 pages.\n"
     ]
    },
    {
     "name": "stderr",
     "output_type": "stream",
     "text": [
      "Processing files (Processed: 7/33):  21%|██        | 7/33 [00:07<00:49,  1.90s/it]"
     ]
    },
    {
     "name": "stdout",
     "output_type": "stream",
     "text": [
      "../batteries/14.pdf\n",
      "document has 7 pages.\n"
     ]
    },
    {
     "name": "stderr",
     "output_type": "stream",
     "text": [
      "Processing files (Processed: 8/33):  24%|██▍       | 8/33 [00:07<00:34,  1.37s/it]"
     ]
    },
    {
     "name": "stdout",
     "output_type": "stream",
     "text": [
      "../batteries/28.pdf\n",
      "document has 6 pages.\n"
     ]
    },
    {
     "name": "stderr",
     "output_type": "stream",
     "text": [
      "Processing files (Processed: 10/33):  27%|██▋       | 9/33 [00:09<00:35,  1.47s/it]"
     ]
    },
    {
     "name": "stdout",
     "output_type": "stream",
     "text": [
      "../batteries/10.pdf\n",
      "document has 8 pages.\n"
     ]
    },
    {
     "name": "stderr",
     "output_type": "stream",
     "text": [
      "Processing files (Processed: 11/33):  33%|███▎      | 11/33 [00:10<00:19,  1.10it/s]"
     ]
    },
    {
     "name": "stdout",
     "output_type": "stream",
     "text": [
      "../batteries/11.pdf\n",
      "document has 9 pages.\n"
     ]
    },
    {
     "name": "stderr",
     "output_type": "stream",
     "text": [
      "Processing files (Processed: 12/33):  36%|███▋      | 12/33 [00:10<00:16,  1.27it/s]"
     ]
    },
    {
     "name": "stdout",
     "output_type": "stream",
     "text": [
      "../batteries/13.pdf\n",
      "document has 20 pages.\n"
     ]
    },
    {
     "name": "stderr",
     "output_type": "stream",
     "text": [
      "Processing files (Processed: 13/33):  39%|███▉      | 13/33 [00:16<00:42,  2.10s/it]"
     ]
    },
    {
     "name": "stdout",
     "output_type": "stream",
     "text": [
      "../batteries/12.pdf\n",
      "document has 6 pages.\n"
     ]
    },
    {
     "name": "stderr",
     "output_type": "stream",
     "text": [
      "Processing files (Processed: 15/33):  42%|████▏     | 14/33 [00:19<00:44,  2.36s/it]"
     ]
    },
    {
     "name": "stdout",
     "output_type": "stream",
     "text": [
      "../batteries/23.pdf\n",
      "document has 8 pages.\n"
     ]
    },
    {
     "name": "stderr",
     "output_type": "stream",
     "text": [
      "Processing files (Processed: 16/33):  48%|████▊     | 16/33 [00:20<00:28,  1.68s/it]"
     ]
    },
    {
     "name": "stdout",
     "output_type": "stream",
     "text": [
      "../batteries/22.pdf\n",
      "document has 11 pages.\n"
     ]
    },
    {
     "name": "stderr",
     "output_type": "stream",
     "text": [
      "Processing files (Processed: 17/33):  52%|█████▏    | 17/33 [00:21<00:21,  1.36s/it]"
     ]
    },
    {
     "name": "stdout",
     "output_type": "stream",
     "text": [
      "../batteries/20.pdf\n",
      "document has 8 pages.\n"
     ]
    },
    {
     "name": "stderr",
     "output_type": "stream",
     "text": [
      "Processing files (Processed: 18/33):  55%|█████▍    | 18/33 [00:34<01:04,  4.31s/it]"
     ]
    },
    {
     "name": "stdout",
     "output_type": "stream",
     "text": [
      "../batteries/21.pdf\n",
      "document has 9 pages.\n"
     ]
    },
    {
     "name": "stderr",
     "output_type": "stream",
     "text": [
      "Processing files (Processed: 19/33):  58%|█████▊    | 19/33 [00:34<00:45,  3.28s/it]"
     ]
    },
    {
     "name": "stdout",
     "output_type": "stream",
     "text": [
      "../batteries/25.pdf\n",
      "document has 15 pages.\n"
     ]
    },
    {
     "name": "stderr",
     "output_type": "stream",
     "text": [
      "Processing files (Processed: 20/33):  61%|██████    | 20/33 [00:38<00:44,  3.41s/it]"
     ]
    },
    {
     "name": "stdout",
     "output_type": "stream",
     "text": [
      "../batteries/19.pdf\n",
      "document has 10 pages.\n"
     ]
    },
    {
     "name": "stderr",
     "output_type": "stream",
     "text": [
      "Processing files (Processed: 21/33):  64%|██████▎   | 21/33 [00:45<00:51,  4.32s/it]"
     ]
    },
    {
     "name": "stdout",
     "output_type": "stream",
     "text": [
      "../batteries/18.pdf\n",
      "document has 7 pages.\n"
     ]
    },
    {
     "name": "stderr",
     "output_type": "stream",
     "text": [
      "Processing files (Processed: 22/33):  67%|██████▋   | 22/33 [00:49<00:47,  4.27s/it]"
     ]
    },
    {
     "name": "stdout",
     "output_type": "stream",
     "text": [
      "../batteries/24.pdf\n",
      "document has 11 pages.\n"
     ]
    },
    {
     "name": "stderr",
     "output_type": "stream",
     "text": [
      "Processing files (Processed: 23/33):  70%|██████▉   | 23/33 [00:54<00:45,  4.60s/it]"
     ]
    },
    {
     "name": "stdout",
     "output_type": "stream",
     "text": [
      "../batteries/30.pdf\n",
      "document has 6 pages.\n"
     ]
    },
    {
     "name": "stderr",
     "output_type": "stream",
     "text": [
      "Processing files (Processed: 24/33):  73%|███████▎  | 24/33 [00:55<00:31,  3.51s/it]"
     ]
    },
    {
     "name": "stdout",
     "output_type": "stream",
     "text": [
      "../batteries/26.pdf\n",
      "document has 14 pages.\n"
     ]
    },
    {
     "name": "stderr",
     "output_type": "stream",
     "text": [
      "Processing files (Processed: 25/33):  76%|███████▌  | 25/33 [00:56<00:21,  2.69s/it]"
     ]
    },
    {
     "name": "stdout",
     "output_type": "stream",
     "text": [
      "../batteries/27.pdf\n",
      "document has 9 pages.\n"
     ]
    },
    {
     "name": "stderr",
     "output_type": "stream",
     "text": [
      "Processing files (Processed: 26/33):  79%|███████▉  | 26/33 [00:56<00:14,  2.04s/it]"
     ]
    },
    {
     "name": "stdout",
     "output_type": "stream",
     "text": [
      "../batteries/6.pdf\n",
      "document has 5 pages.\n"
     ]
    },
    {
     "name": "stderr",
     "output_type": "stream",
     "text": [
      "Processing files (Processed: 27/33):  82%|████████▏ | 27/33 [00:57<00:09,  1.54s/it]"
     ]
    },
    {
     "name": "stdout",
     "output_type": "stream",
     "text": [
      "../batteries/7.pdf\n",
      "document has 10 pages.\n"
     ]
    },
    {
     "name": "stderr",
     "output_type": "stream",
     "text": [
      "Processing files (Processed: 28/33):  85%|████████▍ | 28/33 [00:58<00:07,  1.41s/it]"
     ]
    },
    {
     "name": "stdout",
     "output_type": "stream",
     "text": [
      "../batteries/5.pdf\n",
      "document has 8 pages.\n"
     ]
    },
    {
     "name": "stderr",
     "output_type": "stream",
     "text": [
      "Processing files (Processed: 29/33):  88%|████████▊ | 29/33 [00:59<00:04,  1.23s/it]"
     ]
    },
    {
     "name": "stdout",
     "output_type": "stream",
     "text": [
      "../batteries/4.pdf\n",
      "document has 3 pages.\n"
     ]
    },
    {
     "name": "stderr",
     "output_type": "stream",
     "text": [
      "Processing files (Processed: 30/33):  91%|█████████ | 30/33 [00:59<00:02,  1.02it/s]"
     ]
    },
    {
     "name": "stdout",
     "output_type": "stream",
     "text": [
      "../batteries/1.pdf\n",
      "document has 4 pages.\n"
     ]
    },
    {
     "name": "stderr",
     "output_type": "stream",
     "text": [
      "Processing files (Processed: 32/33):  94%|█████████▍| 31/33 [00:59<00:01,  1.30it/s]"
     ]
    },
    {
     "name": "stdout",
     "output_type": "stream",
     "text": [
      "../batteries/3.pdf\n",
      "document has 8 pages.\n"
     ]
    },
    {
     "name": "stderr",
     "output_type": "stream",
     "text": [
      "Processing files (Processed: 33/33): 100%|██████████| 33/33 [01:00<00:00,  1.63it/s]"
     ]
    },
    {
     "name": "stdout",
     "output_type": "stream",
     "text": [
      "../batteries/2.pdf\n",
      "document has 9 pages.\n"
     ]
    },
    {
     "name": "stderr",
     "output_type": "stream",
     "text": [
      "Processing files (Processed: 34/33): : 34it [01:01,  1.81s/it]                      \n"
     ]
    }
   ],
   "source": [
    "pdfsDirectory = \"../batteries\"\n",
    "totalFiles = len(os.listdir(pdfsDirectory))\n",
    "\n",
    "# Output directory for cleaned text files\n",
    "outputDirectory = os.path.join(pdfsDirectory, \"output\")\n",
    "\n",
    "# Crop a\n",
    "# ll PDFs in the directory\n",
    "cropAllPdfs(pdfsDirectory, outputDirectory, totalFiles)"
   ]
  },
  {
   "cell_type": "code",
   "execution_count": 5,
   "metadata": {},
   "outputs": [
    {
     "name": "stderr",
     "output_type": "stream",
     "text": [
      "Mining PDFs:   0%|          | 0/30 [00:00<?, ?it/s]"
     ]
    },
    {
     "name": "stdout",
     "output_type": "stream",
     "text": [
      "17_cropped.pdf\n"
     ]
    },
    {
     "name": "stderr",
     "output_type": "stream",
     "text": [
      "Mining PDFs:   3%|▎         | 1/30 [00:00<00:28,  1.02it/s]"
     ]
    },
    {
     "name": "stdout",
     "output_type": "stream",
     "text": [
      "Cleaned text has been written to file: ../batteries/output/textOutput/17_cropped_output_text.txt\n",
      "25_cropped.pdf\n"
     ]
    },
    {
     "name": "stderr",
     "output_type": "stream",
     "text": [
      "Mining PDFs:   7%|▋         | 2/30 [00:04<01:06,  2.36s/it]"
     ]
    },
    {
     "name": "stdout",
     "output_type": "stream",
     "text": [
      "Cleaned text has been written to file: ../batteries/output/textOutput/25_cropped_output_text.txt\n",
      "3_cropped.pdf\n"
     ]
    },
    {
     "name": "stderr",
     "output_type": "stream",
     "text": [
      "Mining PDFs:  10%|█         | 3/30 [00:05<00:48,  1.79s/it]"
     ]
    },
    {
     "name": "stdout",
     "output_type": "stream",
     "text": [
      "Cleaned text has been written to file: ../batteries/output/textOutput/3_cropped_output_text.txt\n",
      "30_cropped.pdf\n"
     ]
    },
    {
     "name": "stderr",
     "output_type": "stream",
     "text": [
      "Mining PDFs:  13%|█▎        | 4/30 [00:06<00:35,  1.38s/it]"
     ]
    },
    {
     "name": "stdout",
     "output_type": "stream",
     "text": [
      "Cleaned text has been written to file: ../batteries/output/textOutput/30_cropped_output_text.txt\n",
      "29_cropped.pdf\n"
     ]
    },
    {
     "name": "stderr",
     "output_type": "stream",
     "text": [
      "Mining PDFs:  17%|█▋        | 5/30 [00:25<03:20,  8.01s/it]"
     ]
    },
    {
     "name": "stdout",
     "output_type": "stream",
     "text": [
      "Cleaned text has been written to file: ../batteries/output/textOutput/29_cropped_output_text.txt\n",
      "12_cropped.pdf\n"
     ]
    },
    {
     "name": "stderr",
     "output_type": "stream",
     "text": [
      "Mining PDFs:  20%|██        | 6/30 [00:30<02:41,  6.73s/it]"
     ]
    },
    {
     "name": "stdout",
     "output_type": "stream",
     "text": [
      "Cleaned text has been written to file: ../batteries/output/textOutput/12_cropped_output_text.txt\n",
      "6_cropped.pdf\n"
     ]
    },
    {
     "name": "stderr",
     "output_type": "stream",
     "text": [
      "Mining PDFs:  23%|██▎       | 7/30 [00:30<01:48,  4.72s/it]"
     ]
    },
    {
     "name": "stdout",
     "output_type": "stream",
     "text": [
      "Cleaned text has been written to file: ../batteries/output/textOutput/6_cropped_output_text.txt\n",
      "20_cropped.pdf\n"
     ]
    },
    {
     "name": "stderr",
     "output_type": "stream",
     "text": [
      "Mining PDFs:  27%|██▋       | 8/30 [01:19<06:53, 18.80s/it]"
     ]
    },
    {
     "name": "stdout",
     "output_type": "stream",
     "text": [
      "Cleaned text has been written to file: ../batteries/output/textOutput/20_cropped_output_text.txt\n",
      "23_cropped.pdf\n"
     ]
    },
    {
     "name": "stderr",
     "output_type": "stream",
     "text": [
      "Mining PDFs:  30%|███       | 9/30 [01:22<04:50, 13.82s/it]"
     ]
    },
    {
     "name": "stdout",
     "output_type": "stream",
     "text": [
      "Cleaned text has been written to file: ../batteries/output/textOutput/23_cropped_output_text.txt\n",
      "5_cropped.pdf\n"
     ]
    },
    {
     "name": "stderr",
     "output_type": "stream",
     "text": [
      "Mining PDFs:  33%|███▎      | 10/30 [01:23<03:18,  9.92s/it]"
     ]
    },
    {
     "name": "stdout",
     "output_type": "stream",
     "text": [
      "Cleaned text has been written to file: ../batteries/output/textOutput/5_cropped_output_text.txt\n",
      "11_cropped.pdf\n"
     ]
    },
    {
     "name": "stderr",
     "output_type": "stream",
     "text": [
      "Mining PDFs:  37%|███▋      | 11/30 [01:24<02:16,  7.17s/it]"
     ]
    },
    {
     "name": "stdout",
     "output_type": "stream",
     "text": [
      "Cleaned text has been written to file: ../batteries/output/textOutput/11_cropped_output_text.txt\n",
      "18_cropped.pdf\n"
     ]
    },
    {
     "name": "stderr",
     "output_type": "stream",
     "text": [
      "Mining PDFs:  40%|████      | 12/30 [01:30<02:00,  6.71s/it]"
     ]
    },
    {
     "name": "stdout",
     "output_type": "stream",
     "text": [
      "Cleaned text has been written to file: ../batteries/output/textOutput/18_cropped_output_text.txt\n",
      "9_cropped.pdf\n"
     ]
    },
    {
     "name": "stderr",
     "output_type": "stream",
     "text": [
      "Mining PDFs:  43%|████▎     | 13/30 [01:31<01:22,  4.88s/it]"
     ]
    },
    {
     "name": "stdout",
     "output_type": "stream",
     "text": [
      "Cleaned text has been written to file: ../batteries/output/textOutput/9_cropped_output_text.txt\n",
      "26_cropped.pdf\n"
     ]
    },
    {
     "name": "stderr",
     "output_type": "stream",
     "text": [
      "Mining PDFs:  47%|████▋     | 14/30 [01:32<01:02,  3.92s/it]"
     ]
    },
    {
     "name": "stdout",
     "output_type": "stream",
     "text": [
      "Cleaned text has been written to file: ../batteries/output/textOutput/26_cropped_output_text.txt\n",
      "14_cropped.pdf\n"
     ]
    },
    {
     "name": "stderr",
     "output_type": "stream",
     "text": [
      "Mining PDFs:  50%|█████     | 15/30 [01:33<00:43,  2.89s/it]"
     ]
    },
    {
     "name": "stdout",
     "output_type": "stream",
     "text": [
      "Cleaned text has been written to file: ../batteries/output/textOutput/14_cropped_output_text.txt\n",
      "21_cropped.pdf\n"
     ]
    },
    {
     "name": "stderr",
     "output_type": "stream",
     "text": [
      "Mining PDFs:  53%|█████▎    | 16/30 [01:34<00:31,  2.28s/it]"
     ]
    },
    {
     "name": "stdout",
     "output_type": "stream",
     "text": [
      "Cleaned text has been written to file: ../batteries/output/textOutput/21_cropped_output_text.txt\n",
      "7_cropped.pdf\n"
     ]
    },
    {
     "name": "stderr",
     "output_type": "stream",
     "text": [
      "Mining PDFs:  57%|█████▋    | 17/30 [01:35<00:26,  2.02s/it]"
     ]
    },
    {
     "name": "stdout",
     "output_type": "stream",
     "text": [
      "Cleaned text has been written to file: ../batteries/output/textOutput/7_cropped_output_text.txt\n",
      "13_cropped.pdf\n"
     ]
    },
    {
     "name": "stderr",
     "output_type": "stream",
     "text": [
      "Mining PDFs:  60%|██████    | 18/30 [01:42<00:41,  3.48s/it]"
     ]
    },
    {
     "name": "stdout",
     "output_type": "stream",
     "text": [
      "Cleaned text has been written to file: ../batteries/output/textOutput/13_cropped_output_text.txt\n",
      "28_cropped.pdf\n"
     ]
    },
    {
     "name": "stderr",
     "output_type": "stream",
     "text": [
      "Mining PDFs:  63%|██████▎   | 19/30 [01:43<00:30,  2.79s/it]"
     ]
    },
    {
     "name": "stdout",
     "output_type": "stream",
     "text": [
      "Cleaned text has been written to file: ../batteries/output/textOutput/28_cropped_output_text.txt\n",
      "2_cropped.pdf\n"
     ]
    },
    {
     "name": "stderr",
     "output_type": "stream",
     "text": [
      "Mining PDFs:  67%|██████▋   | 20/30 [01:44<00:22,  2.27s/it]"
     ]
    },
    {
     "name": "stdout",
     "output_type": "stream",
     "text": [
      "Cleaned text has been written to file: ../batteries/output/textOutput/2_cropped_output_text.txt\n",
      "24_cropped.pdf\n"
     ]
    },
    {
     "name": "stderr",
     "output_type": "stream",
     "text": [
      "Mining PDFs:  70%|███████   | 21/30 [02:02<01:03,  7.10s/it]"
     ]
    },
    {
     "name": "stdout",
     "output_type": "stream",
     "text": [
      "Cleaned text has been written to file: ../batteries/output/textOutput/24_cropped_output_text.txt\n",
      "16_cropped.pdf\n"
     ]
    },
    {
     "name": "stderr",
     "output_type": "stream",
     "text": [
      "Mining PDFs:  73%|███████▎  | 22/30 [02:03<00:41,  5.20s/it]"
     ]
    },
    {
     "name": "stdout",
     "output_type": "stream",
     "text": [
      "Cleaned text has been written to file: ../batteries/output/textOutput/16_cropped_output_text.txt\n",
      "15_cropped.pdf\n"
     ]
    },
    {
     "name": "stderr",
     "output_type": "stream",
     "text": [
      "Mining PDFs:  77%|███████▋  | 23/30 [02:20<01:00,  8.61s/it]"
     ]
    },
    {
     "name": "stdout",
     "output_type": "stream",
     "text": [
      "Cleaned text has been written to file: ../batteries/output/textOutput/15_cropped_output_text.txt\n",
      "27_cropped.pdf\n"
     ]
    },
    {
     "name": "stderr",
     "output_type": "stream",
     "text": [
      "Mining PDFs:  80%|████████  | 24/30 [02:21<00:37,  6.26s/it]"
     ]
    },
    {
     "name": "stdout",
     "output_type": "stream",
     "text": [
      "Cleaned text has been written to file: ../batteries/output/textOutput/27_cropped_output_text.txt\n",
      "1_cropped.pdf\n"
     ]
    },
    {
     "name": "stderr",
     "output_type": "stream",
     "text": [
      "Mining PDFs:  83%|████████▎ | 25/30 [02:21<00:22,  4.52s/it]"
     ]
    },
    {
     "name": "stdout",
     "output_type": "stream",
     "text": [
      "Cleaned text has been written to file: ../batteries/output/textOutput/1_cropped_output_text.txt\n",
      "8_cropped.pdf\n"
     ]
    },
    {
     "name": "stderr",
     "output_type": "stream",
     "text": [
      "Mining PDFs:  87%|████████▋ | 26/30 [02:22<00:13,  3.47s/it]"
     ]
    },
    {
     "name": "stdout",
     "output_type": "stream",
     "text": [
      "Cleaned text has been written to file: ../batteries/output/textOutput/8_cropped_output_text.txt\n",
      "19_cropped.pdf\n"
     ]
    },
    {
     "name": "stderr",
     "output_type": "stream",
     "text": [
      "Mining PDFs:  90%|█████████ | 27/30 [02:54<00:36, 12.11s/it]"
     ]
    },
    {
     "name": "stdout",
     "output_type": "stream",
     "text": [
      "Cleaned text has been written to file: ../batteries/output/textOutput/19_cropped_output_text.txt\n",
      "10_cropped.pdf\n"
     ]
    },
    {
     "name": "stderr",
     "output_type": "stream",
     "text": [
      "Mining PDFs:  93%|█████████▎| 28/30 [02:55<00:17,  8.75s/it]"
     ]
    },
    {
     "name": "stdout",
     "output_type": "stream",
     "text": [
      "Cleaned text has been written to file: ../batteries/output/textOutput/10_cropped_output_text.txt\n",
      "4_cropped.pdf\n"
     ]
    },
    {
     "name": "stderr",
     "output_type": "stream",
     "text": [
      "Mining PDFs:  97%|█████████▋| 29/30 [02:56<00:06,  6.31s/it]"
     ]
    },
    {
     "name": "stdout",
     "output_type": "stream",
     "text": [
      "Cleaned text has been written to file: ../batteries/output/textOutput/4_cropped_output_text.txt\n",
      "22_cropped.pdf\n"
     ]
    },
    {
     "name": "stderr",
     "output_type": "stream",
     "text": [
      "Mining PDFs: 100%|██████████| 30/30 [02:58<00:00,  5.95s/it]"
     ]
    },
    {
     "name": "stdout",
     "output_type": "stream",
     "text": [
      "Cleaned text has been written to file: ../batteries/output/textOutput/22_cropped_output_text.txt\n",
      "Cleaning 29_cropped_output_text.txt...\n",
      "29_cropped_output_text.txt has been cleaned.\n",
      "Cleaning 17_cropped_output_text.txt...\n",
      "17_cropped_output_text.txt has been cleaned.\n",
      "Cleaning 18_cropped_output_text.txt...\n",
      "18_cropped_output_text.txt has been cleaned.\n",
      "Cleaning 26_cropped_output_text.txt...\n",
      "26_cropped_output_text.txt has been cleaned.\n",
      "Cleaning 2_cropped_output_text.txt...\n",
      "2_cropped_output_text.txt has been cleaned.\n",
      "Cleaning 6_cropped_output_text.txt...\n",
      "6_cropped_output_text.txt has been cleaned.\n",
      "Cleaning 22_cropped_output_text.txt...\n",
      "22_cropped_output_text.txt has been cleaned.\n",
      "Cleaning 13_cropped_output_text.txt...\n",
      "13_cropped_output_text.txt has been cleaned.\n",
      "Cleaning 9_cropped_output_text.txt...\n",
      "9_cropped_output_text.txt has been cleaned.\n",
      "Cleaning 21_cropped_output_text.txt...\n",
      "21_cropped_output_text.txt has been cleaned.\n",
      "Cleaning 5_cropped_output_text.txt...\n",
      "5_cropped_output_text.txt has been cleaned.\n",
      "Cleaning 10_cropped_output_text.txt...\n",
      "10_cropped_output_text.txt has been cleaned.\n",
      "Cleaning 14_cropped_output_text.txt...\n",
      "14_cropped_output_text.txt has been cleaned.\n",
      "Cleaning 1_cropped_output_text.txt...\n",
      "1_cropped_output_text.txt has been cleaned.\n",
      "Cleaning 25_cropped_output_text.txt...\n",
      "25_cropped_output_text.txt has been cleaned.\n",
      "Cleaning 8_cropped_output_text.txt...\n",
      "8_cropped_output_text.txt has been cleaned.\n",
      "Cleaning 12_cropped_output_text.txt...\n",
      "12_cropped_output_text.txt has been cleaned.\n",
      "Cleaning 7_cropped_output_text.txt...\n",
      "7_cropped_output_text.txt has been cleaned.\n",
      "Cleaning 23_cropped_output_text.txt...\n",
      "23_cropped_output_text.txt has been cleaned.\n",
      "Cleaning 30_cropped_output_text.txt...\n",
      "30_cropped_output_text.txt has been cleaned.\n",
      "Cleaning 27_cropped_output_text.txt...\n"
     ]
    },
    {
     "name": "stderr",
     "output_type": "stream",
     "text": [
      "\n"
     ]
    },
    {
     "name": "stdout",
     "output_type": "stream",
     "text": [
      "27_cropped_output_text.txt has been cleaned.\n",
      "Cleaning 3_cropped_output_text.txt...\n",
      "3_cropped_output_text.txt has been cleaned.\n",
      "Cleaning 19_cropped_output_text.txt...\n",
      "19_cropped_output_text.txt has been cleaned.\n",
      "Cleaning 16_cropped_output_text.txt...\n",
      "16_cropped_output_text.txt has been cleaned.\n",
      "Cleaning 28_cropped_output_text.txt...\n",
      "28_cropped_output_text.txt has been cleaned.\n",
      "Cleaning 24_cropped_output_text.txt...\n",
      "24_cropped_output_text.txt has been cleaned.\n",
      "Cleaning 15_cropped_output_text.txt...\n",
      "15_cropped_output_text.txt has been cleaned.\n",
      "Cleaning 11_cropped_output_text.txt...\n",
      "11_cropped_output_text.txt has been cleaned.\n",
      "Cleaning 20_cropped_output_text.txt...\n",
      "20_cropped_output_text.txt has been cleaned.\n",
      "Cleaning 4_cropped_output_text.txt...\n",
      "4_cropped_output_text.txt has been cleaned.\n"
     ]
    }
   ],
   "source": [
    "text_files_directory = \"../batteries/output/textOutput\"\n",
    "\n",
    "# Directory containing PDFs to process\n",
    "# pdfs_directory = \"articles/output\"\n",
    "pdfs_directory = \"../batteries/output\"\n",
    "\n",
    "# Output directory for cleaned text files\n",
    "output_directory = os.path.join(pdfs_directory, \"textOutput\")\n",
    "\n",
    "# Process all PDFs in the directory\n",
    "process_all_pdfs(pdfs_directory, output_directory)\n",
    "process_text_files(text_files_directory)"
   ]
  },
  {
   "cell_type": "code",
   "execution_count": 7,
   "metadata": {},
   "outputs": [
    {
     "name": "stderr",
     "output_type": "stream",
     "text": [
      "Processing files: 100%|██████████| 30/30 [00:00<00:00, 79.97it/s]\n"
     ]
    },
    {
     "name": "stdout",
     "output_type": "stream",
     "text": [
      "Adding embeddings...\n",
      "Saving data...\n",
      "Data saved successfully.\n"
     ]
    }
   ],
   "source": [
    "txt_directory = \"../batteries/output/textOutput\"\n",
    "output_text_directory = \"../batteries/text_output\"\n",
    "key_file_path = ''\n",
    "\n",
    "process_files(txt_directory, output_text_directory, key_file_path, llm=\"Ollama-llama3\")"
   ]
  },
  {
   "cell_type": "markdown",
   "metadata": {},
   "source": []
  },
  {
   "cell_type": "code",
   "execution_count": 17,
   "metadata": {},
   "outputs": [],
   "source": [
    "query_text = (\n",
    "    \"Rechargeable batteries consist of cathodes, anodes, and electrolytes, where liquid electrolytes consist of salt(s) dissolved in organic solvents. Sometimes additives are added in small amounts to improve cycling or Coulombic efficiencies. Find the text containing information about cyling performance of electrolytes in half-cell lithium batteries (Li|Cu cell) reported in the paper.\"\n",
    ")"
   ]
  },
  {
   "cell_type": "code",
   "execution_count": 18,
   "metadata": {},
   "outputs": [],
   "source": [
    "prompt = (\n",
    "    \"Assuming you are a battery expert and using the context provided below, extract cycling or Coulombic efficiency and corresponding electrolyte data in a table with following columns: \"\n",
    "    \"1) Solvent 1 (IUPAC name of compound), 2) Solvent 2 (IUPAC name of compound), 3) Solvent 3 (IUPAC name of compound), 4) Solvent 4 (IUPAC name of compound), \"\n",
    "    \"5) Salt 1 (acronym, e.g., LiPF6), 6) Salt 2 (acronym, e.g., LiPF6), 7) 5) Salt 3 (acronym, e.g., LiPF6), 8) Additive compound 1 (if any: IUPAC name for organic molecule and acronym for salt),  1 (IUPAC name of compound), \"\n",
    "    \"9) Additive compound  2 (IUPAC name of compound) 10) Salt 1 concentration (in molarity) 11)  Salt 2 concentration (in molarity) 12) solvent ratios in volume-by-volume ratio (v:v),\"\n",
    "     \"13) current density, 14) capacity, 15) Cycling or Coulombic efficiency (average or Aurbach method), 16) embedding number.\"\n",
    "       \"For missing values, leave the entry blank.  Follow the given format STRICTLY.\\n\\n\"\n",
    "    # f\"Context: {relevant_text}\"\n",
    ")"
   ]
  },
  {
   "cell_type": "code",
   "execution_count": 19,
   "metadata": {},
   "outputs": [
    {
     "name": "stdout",
     "output_type": "stream",
     "text": [
      "Here is the extracted data in the requested format:\n",
      "\n",
      "| Solvent 1 | Solvent 2 | Solvent 3 | Solvent 4 | Salt 1 | Salt 2 | Salt 3 | Additive compound 1 | Additive compound 2 | Salt 1 concentration (molarity) | Salt 2 concentration (molarity) | Solvent ratios (v:v) | Current density | Capacity | Cycling efficiency | Embedding number |\n",
      "| --- | --- | --- | --- | --- | --- | --- | --- | --- | --- | --- | --- | --- | --- | --- | --- |\n",
      "| Propylene carbonate |  |  |  | LiAsF6 |  |  |  |  | 1 M |  |  | 5 mA/cm2 | 1.1 C/ | 85% (Aurbach method) | 20 |\n",
      "| Methyl acetate |  |  |  | LiAsF6 |  |  |  |  | 1 M |  |  | 5 mA/cm2 | 1.1 C/ | 78% (average) | 20 |\n",
      "| Tetrahydrofuran |  |  |  | LiAsF6 |  |  |  |  | 1 M |  |  | 5 mA/cm2 | 1.1 C/ | 65% (Aurbach method) | 20 |\n",
      "| 2-Methyltetrahydrofuran |  |  |  | LiAsF6 |  |  |  |  | 1 M |  |  | 5 mA/cm2 | 1.1 C/ | 98% (average) | 20 |\n",
      "\n",
      "Note: The values are based on the provided context and may not be exact matches to actual experimental data, but rather a representation of the information presented.\n",
      "Data saved to output_table.csv\n"
     ]
    }
   ],
   "source": [
    "query_llm(query_text, prompt, llm=\"Ollama-llama3\")"
   ]
  }
 ],
 "metadata": {
  "kernelspec": {
   "display_name": "Python 3",
   "language": "python",
   "name": "python3"
  },
  "language_info": {
   "codemirror_mode": {
    "name": "ipython",
    "version": 3
   },
   "file_extension": ".py",
   "mimetype": "text/x-python",
   "name": "python",
   "nbconvert_exporter": "python",
   "pygments_lexer": "ipython3",
   "version": "3.10.14"
  }
 },
 "nbformat": 4,
 "nbformat_minor": 2
}
