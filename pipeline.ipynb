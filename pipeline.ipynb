{
 "cells": [
  {
   "cell_type": "code",
   "execution_count": 1,
   "metadata": {
    "execution": {
     "iopub.execute_input": "2024-06-24T14:50:15.236245Z",
     "iopub.status.busy": "2024-06-24T14:50:15.236056Z",
     "iopub.status.idle": "2024-06-24T14:50:15.981408Z",
     "shell.execute_reply": "2024-06-24T14:50:15.980769Z"
    }
   },
   "outputs": [],
   "source": [
    "import os\n",
    "\n",
    "# os.makedirs(\"articles/review\", exist_ok=True)\n",
    "\n",
    "from script.cropPage import *\n",
    "from script.textMining import *\n",
    "from script.textSegments import *\n",
    "from script.queryText import *"
   ]
  },
  {
   "cell_type": "code",
   "execution_count": 2,
   "metadata": {},
   "outputs": [
    {
     "name": "stdout",
     "output_type": "stream",
     "text": [
      "/Users/riteshk/Library/CloudStorage/Box-Box/Research-postdoc/oxRSE-project/curaitor\n",
      "total 4304\n",
      "drwxr-xr-x  13 riteshk  staff      416 Jun 24 16:06 \u001b[34mbinder\u001b[m\u001b[m\n",
      "-rw-r--r--   1 riteshk  staff     5483 Jun 24 16:06 code_of_conduct.md\n",
      "drwxr-xr-x  15 riteshk  staff      480 Jun 24 16:06 \u001b[34mdocs\u001b[m\u001b[m\n",
      "-rwxr-xr-x   1 riteshk  staff       34 Jun 24 16:06 \u001b[31mlint.sh\u001b[m\u001b[m\n",
      "-rw-r--r--   1 riteshk  staff      214 Jun 24 16:06 pyproject.toml\n",
      "-rw-r--r--   1 riteshk  staff      206 Jun 24 16:06 requirements-dev.in\n",
      "-rwxr-xr-x   1 riteshk  staff       61 Jun 24 16:06 \u001b[31mrequirements-dev.sh\u001b[m\u001b[m\n",
      "-rwxr-xr-x   1 riteshk  staff      393 Jun 24 16:06 \u001b[31mstyle.sh\u001b[m\u001b[m\n",
      "-rwxr-xr-x   1 riteshk  staff       43 Jun 24 16:06 \u001b[31mtest.sh\u001b[m\u001b[m\n",
      "drwxr-xr-x   4 riteshk  staff      128 Jun 25 12:36 \u001b[34marticles\u001b[m\u001b[m\n",
      "drwxr-xr-x   5 riteshk  staff      160 Jun 25 23:45 \u001b[34mtest\u001b[m\u001b[m\n",
      "drwxr-xr-x   7 riteshk  staff      224 Jun 25 23:45 \u001b[34mcuraitor\u001b[m\u001b[m\n",
      "-rw-r--r--   1 riteshk  staff      901 Jun 25 23:47 README.md\n",
      "-rw-r--r--@  1 riteshk  staff    10123 Jun 26 16:23 requirements-dev.txt\n",
      "-rw-r--r--   1 riteshk  staff   460928 Jun 26 16:39 2024-06-26 16-39-11embeddings.npy\n",
      "-rw-r--r--   1 riteshk  staff  1411028 Jun 26 16:39 2024-06-26 16-39-11texts.npy\n",
      "-rw-r--r--   1 riteshk  staff   257923 Jun 26 16:39 2024-06-26 16-39-11pages.npy\n",
      "-rw-r--r--@  1 riteshk  staff    19068 Jun 26 23:56 pipeline.ipynb\n",
      "drwxr-xr-x   7 riteshk  staff      224 Jun 26 23:56 \u001b[34mscript\u001b[m\u001b[m\n"
     ]
    }
   ],
   "source": [
    "%%bash\n",
    "pwd\n",
    "ls -ltr"
   ]
  },
  {
   "cell_type": "code",
   "execution_count": 2,
   "metadata": {
    "execution": {
     "iopub.execute_input": "2024-06-24T14:50:15.984410Z",
     "iopub.status.busy": "2024-06-24T14:50:15.983918Z",
     "iopub.status.idle": "2024-06-24T14:50:18.702760Z",
     "shell.execute_reply": "2024-06-24T14:50:18.702195Z"
    }
   },
   "outputs": [],
   "source": [
    "import requests\n",
    "\n",
    "url = \"https://vuir.vu.edu.au/43558/1/Ep43558.pdf\"\n",
    "\n",
    "# Extract filename and append '.pdf'\n",
    "filename = url.split(\"/\")[-1]\n",
    "\n",
    "# Full path where the file will be saved\n",
    "path = os.path.join(\"articles\", filename)\n",
    "\n",
    "# Send a GET request to the URL with headers\n",
    "response = requests.get(url, stream=True)\n",
    "\n",
    "# Save the file if the request was successful\n",
    "assert response.status_code == 200, response.status_code\n",
    "\n",
    "with open(path, \"wb\") as f:\n",
    "    for chunk in response.iter_content(chunk_size=8192):\n",
    "        f.write(chunk)"
   ]
  },
  {
   "cell_type": "markdown",
   "metadata": {},
   "source": [
    "# 1) Crop page\n"
   ]
  },
  {
   "cell_type": "code",
   "execution_count": 4,
   "metadata": {
    "execution": {
     "iopub.execute_input": "2024-06-24T14:50:18.705250Z",
     "iopub.status.busy": "2024-06-24T14:50:18.705059Z",
     "iopub.status.idle": "2024-06-24T14:50:19.559243Z",
     "shell.execute_reply": "2024-06-24T14:50:19.558610Z"
    }
   },
   "outputs": [
    {
     "name": "stderr",
     "output_type": "stream",
     "text": [
      "Processing files:   0%|          | 0/5 [00:00<?, ?it/s]"
     ]
    },
    {
     "name": "stdout",
     "output_type": "stream",
     "text": [
      "../curator/pdfsToMine/Bazgir_2016.pdf\n",
      "document has 12 pages.\n"
     ]
    },
    {
     "name": "stderr",
     "output_type": "stream",
     "text": [
      "Processing files (Processed: 1/5):  20%|██        | 1/5 [00:00<00:02,  1.72it/s]"
     ]
    },
    {
     "name": "stdout",
     "output_type": "stream",
     "text": [
      "../curator/pdfsToMine/Babaeijandaghi_2022TNF.pdf\n",
      "document has 12 pages.\n"
     ]
    },
    {
     "name": "stderr",
     "output_type": "stream",
     "text": [
      "Processing files (Processed: 3/5):  40%|████      | 2/5 [00:01<00:02,  1.38it/s]"
     ]
    },
    {
     "name": "stdout",
     "output_type": "stream",
     "text": [
      "../curator/pdfsToMine/Broatch_2021.pdf\n",
      "document has 19 pages.\n"
     ]
    },
    {
     "name": "stderr",
     "output_type": "stream",
     "text": [
      "Processing files (Processed: 4/5):  80%|████████  | 4/5 [00:01<00:00,  2.30it/s]"
     ]
    },
    {
     "name": "stdout",
     "output_type": "stream",
     "text": [
      "../curator/pdfsToMine/Mackey_MN_2009_SC.pdf\n",
      "document has 11 pages.\n"
     ]
    },
    {
     "name": "stderr",
     "output_type": "stream",
     "text": [
      "Processing files (Processed: 5/5): 100%|██████████| 5/5 [00:02<00:00,  2.45it/s]"
     ]
    },
    {
     "name": "stdout",
     "output_type": "stream",
     "text": [
      "../curator/pdfsToMine/Best_etal_1995.pdf\n",
      "document has 4 pages.\n"
     ]
    },
    {
     "name": "stderr",
     "output_type": "stream",
     "text": [
      "Processing files (Processed: 6/5): : 6it [00:02,  2.28it/s]                     \n"
     ]
    }
   ],
   "source": [
    "# Directory containing PDFs to process\n",
    "# pdfsDirectory = \"articles\"\n",
    "pdfsDirectory = \"../curator/pdfsToMine/\"\n",
    "totalFiles = len(os.listdir(pdfsDirectory))\n",
    "\n",
    "# Output directory for cleaned text files\n",
    "outputDirectory = os.path.join(pdfsDirectory, \"output\")\n",
    "\n",
    "# Crop a\n",
    "# ll PDFs in the directory\n",
    "cropAllPdfs(pdfsDirectory, outputDirectory, totalFiles)\n",
    "\n",
    "# Test single PDF\n",
    "# pdfPath= \"review/1-s2.0-S0143416016300094-main.pdf\"\n",
    "# cropPDFMargins(pdfPath, outputDirectory)"
   ]
  },
  {
   "cell_type": "markdown",
   "metadata": {},
   "source": [
    "# 2) Extract text\n",
    "\n",
    "Table not working yet\n"
   ]
  },
  {
   "cell_type": "code",
   "execution_count": 5,
   "metadata": {
    "execution": {
     "iopub.execute_input": "2024-06-24T14:50:19.561694Z",
     "iopub.status.busy": "2024-06-24T14:50:19.561332Z",
     "iopub.status.idle": "2024-06-24T14:50:21.078237Z",
     "shell.execute_reply": "2024-06-24T14:50:21.077597Z"
    }
   },
   "outputs": [
    {
     "name": "stderr",
     "output_type": "stream",
     "text": [
      "Mining PDFs:   0%|          | 0/5 [00:00<?, ?it/s]"
     ]
    },
    {
     "name": "stdout",
     "output_type": "stream",
     "text": [
      "Bazgir_2016_cropped.pdf\n"
     ]
    },
    {
     "name": "stderr",
     "output_type": "stream",
     "text": [
      "Mining PDFs:  20%|██        | 1/5 [00:00<00:03,  1.15it/s]"
     ]
    },
    {
     "name": "stdout",
     "output_type": "stream",
     "text": [
      "Cleaned text has been written to file: ../curator/pdfsToMine/output/textOutput/Bazgir_2016_cropped_output_text.txt\n",
      "Broatch_2021_cropped.pdf\n"
     ]
    },
    {
     "name": "stderr",
     "output_type": "stream",
     "text": [
      "Mining PDFs:  40%|████      | 2/5 [00:01<00:02,  1.03it/s]"
     ]
    },
    {
     "name": "stdout",
     "output_type": "stream",
     "text": [
      "Cleaned text has been written to file: ../curator/pdfsToMine/output/textOutput/Broatch_2021_cropped_output_text.txt\n",
      "Best_etal_1995_cropped.pdf\n"
     ]
    },
    {
     "name": "stderr",
     "output_type": "stream",
     "text": [
      "Mining PDFs:  60%|██████    | 3/5 [00:02<00:01,  1.03it/s]"
     ]
    },
    {
     "name": "stdout",
     "output_type": "stream",
     "text": [
      "Cleaned text has been written to file: ../curator/pdfsToMine/output/textOutput/Best_etal_1995_cropped_output_text.txt\n",
      "Mackey_MN_2009_SC_cropped.pdf\n"
     ]
    },
    {
     "name": "stderr",
     "output_type": "stream",
     "text": [
      "Mining PDFs:  80%|████████  | 4/5 [00:03<00:00,  1.25it/s]"
     ]
    },
    {
     "name": "stdout",
     "output_type": "stream",
     "text": [
      "Cleaned text has been written to file: ../curator/pdfsToMine/output/textOutput/Mackey_MN_2009_SC_cropped_output_text.txt\n",
      "Babaeijandaghi_2022TNF_cropped.pdf\n"
     ]
    },
    {
     "name": "stderr",
     "output_type": "stream",
     "text": [
      "Mining PDFs: 100%|██████████| 5/5 [00:04<00:00,  1.02it/s]"
     ]
    },
    {
     "name": "stdout",
     "output_type": "stream",
     "text": [
      "Cleaned text has been written to file: ../curator/pdfsToMine/output/textOutput/Babaeijandaghi_2022TNF_cropped_output_text.txt\n",
      "Cleaning Broatch_2021_cropped_output_text.txt...\n",
      "Broatch_2021_cropped_output_text.txt has been cleaned.\n",
      "Cleaning Mackey_MN_2009_SC_cropped_output_text.txt...\n",
      "Mackey_MN_2009_SC_cropped_output_text.txt has been cleaned.\n",
      "Cleaning Bazgir_2016_cropped_output_text.txt...\n",
      "Bazgir_2016_cropped_output_text.txt has been cleaned.\n",
      "Cleaning Babaeijandaghi_2022TNF_cropped_output_text.txt...\n",
      "Babaeijandaghi_2022TNF_cropped_output_text.txt has been cleaned.\n",
      "Cleaning Best_etal_1995_cropped_output_text.txt...\n",
      "Best_etal_1995_cropped_output_text.txt has been cleaned.\n"
     ]
    },
    {
     "name": "stderr",
     "output_type": "stream",
     "text": [
      "\n"
     ]
    }
   ],
   "source": [
    "# Directory containing your text files\n",
    "# text_files_directory = \"articles/output/textOutput\"\n",
    "text_files_directory = \"../curator/pdfsToMine/output/textOutput\"\n",
    "\n",
    "# Directory containing PDFs to process\n",
    "# pdfs_directory = \"articles/output\"\n",
    "pdfs_directory = \"../curator/pdfsToMine/output\"\n",
    "\n",
    "# Output directory for cleaned text files\n",
    "output_directory = os.path.join(pdfs_directory, \"textOutput\")\n",
    "\n",
    "# Process all PDFs in the directory\n",
    "process_all_pdfs(pdfs_directory, output_directory)\n",
    "process_text_files(text_files_directory)"
   ]
  },
  {
   "cell_type": "markdown",
   "metadata": {},
   "source": [
    "# 3) Text segment\n",
    "\n",
    "Get embeddings\n"
   ]
  },
  {
   "cell_type": "code",
   "execution_count": 2,
   "metadata": {
    "execution": {
     "iopub.execute_input": "2024-06-24T14:50:21.080844Z",
     "iopub.status.busy": "2024-06-24T14:50:21.080485Z",
     "iopub.status.idle": "2024-06-24T14:50:26.372513Z",
     "shell.execute_reply": "2024-06-24T14:50:26.371894Z"
    }
   },
   "outputs": [
    {
     "name": "stderr",
     "output_type": "stream",
     "text": [
      "Processing files: 100%|██████████| 5/5 [00:00<00:00, 20.04it/s]\n"
     ]
    },
    {
     "name": "stdout",
     "output_type": "stream",
     "text": [
      "Adding embeddings...\n",
      "Saving data...\n",
      "Data saved successfully.\n"
     ]
    }
   ],
   "source": [
    "# List of PDF file names\n",
    "txt_directory = \"../curator/pdfsToMine/output/textOutput\"\n",
    "output_text_directory = \"../curator/pdfsToMine/text_output\"\n",
    "# Configure OpenAI API key\n",
    "key_file_path = \"api_key\"\n",
    "\n",
    "if \"OPENAI_API_KEY\" in os.environ:\n",
    "    with open(key_file_path, \"w\") as f:\n",
    "        f.write(os.environ[\"OPENAI_API_KEY\"])\n",
    "\n",
    "process_files(txt_directory, output_text_directory, key_file_path, llm=\"Ollama-llama3\")"
   ]
  },
  {
   "cell_type": "markdown",
   "metadata": {},
   "source": [
    "# 4) Query text\n"
   ]
  },
  {
   "cell_type": "code",
   "execution_count": 2,
   "metadata": {},
   "outputs": [],
   "source": [
    "query_text = (\n",
    "    \"Describe the involvement and interactions of any cell types such as satellite cells, fibroblasts, \"\n",
    "    \"macrophages, neutrophils, or cytokines such as TNF-a, IL-6 etc, or growth factors TGF-B, IGF-1 etc, in the process of muscle repair and regeneration.\"\n",
    "    \"Also describe any interactions between cells or of cell secretions on other cell types, or of growth factors and cytokines on tissues\"\n",
    ")"
   ]
  },
  {
   "cell_type": "code",
   "execution_count": 3,
   "metadata": {},
   "outputs": [],
   "source": [
    "prompt = (\n",
    "    \"Using the context provided below, elaborate on the roles played by different cell types as if you were creating rules for an agent-based model \"\n",
    "    \"and factors in muscle repair and regeneration. Structure your response in a table with three columns: \"\n",
    "    \"1) Embedding numbers, 2) Source text name, and 3) Detailed roles and interactions of cell types like \"\n",
    "    \"satellite cells, fibroblasts, macrophages, neutrophils, cytokines, and growth factors. Provide multiple entries \"\n",
    "    \"for each cell type or cytokine or growth factor mentioned, focusing on their specific effects during the cell cycle phases and their interactions during the process of muscle repair.\\n\\n\"\n",
    "    # f\"Context: {relevant_text}\"\n",
    ")"
   ]
  },
  {
   "cell_type": "code",
   "execution_count": 4,
   "metadata": {},
   "outputs": [
    {
     "name": "stdout",
     "output_type": "stream",
     "text": [
      "Here is a table outlining the roles played by different cell types during muscle repair and regeneration:\n",
      "\n",
      "| Embedding numbers | Source text name | Detailed roles and interactions of cell types |\n",
      "| --- | --- | --- |\n",
      "| 1 | Amadio et al. (1992) | Satellite cells: Quiescent in normal conditions, activated upon injury to proliferate and differentiate into myoblasts. Interact with fibroblasts to produce ECM proteins for muscle regeneration. |\n",
      "| 2 | Amadio et al. (1992) | Fibroblasts: Produce ECM proteins such as collagen and fibronectin to support muscle regeneration. Interact with satellite cells to facilitate their activation and differentiation. |\n",
      "| 3 | Best et al. (1994) | Macrophages: Phagocytose damaged muscle tissue and debris, promoting clearance and regeneration. Produce cytokines that stimulate the immune response and modulate inflammation. |\n",
      "| 4 | Butler et al. (1984) | Neutrophils: Initially respond to injury by phagocytosing bacteria and other foreign substances, but can also contribute to tissue damage through release of reactive oxygen species. |\n",
      "| 5 | Crowninshield et al. (1976) | Cytokines (e.g., TNF-α, IL-1β): Released by activated immune cells, such as macrophages and neutrophils, to modulate the immune response and promote inflammation. Can also stimulate fibroblast activation and ECM production. |\n",
      "| 6 | Durelli et al. (1958) | Growth factors (e.g., PDGF, FGF): Released by activated immune cells and platelets to stimulate fibroblast proliferation and migration, promoting ECM production and tissue repair. |\n",
      "| 7 | Fischer (1932) | Myoblasts: Differentiated from satellite cells, these cells proliferate and fuse to form new muscle fibers. Interact with ECM proteins produced by fibroblasts to support muscle regeneration. |\n",
      "\n",
      "During the cell cycle phases:\n",
      "\n",
      "* G0/G1 phase: Satellite cells are quiescent, while fibroblasts are producing ECM proteins.\n",
      "* S phase: Satellite cells proliferate to produce more myoblasts, while fibroblasts continue to produce ECM proteins.\n",
      "* G2/M phase: Myoblasts differentiate into new muscle fibers, which then mature and align with existing muscle fibers.\n",
      "\n",
      "Interactions during the process of muscle repair:\n",
      "\n",
      "* Satellite cells interact with fibroblasts to facilitate their activation and differentiation.\n",
      "* Macrophages and neutrophils release cytokines that stimulate the immune response and modulate inflammation.\n",
      "* Cytokines released by macrophages and neutrophils can also stimulate fibroblast activation and ECM production.\n",
      "* Growth factors released by platelets and immune cells stimulate fibroblast proliferation and migration, promoting ECM production and tissue repair.\n",
      "\n",
      "Note: This table provides a general overview of the roles played by different cell types during muscle repair and regeneration. The specific interactions and effects may vary depending on the context and injury severity.\n",
      "Data saved to output_table.csv\n"
     ]
    }
   ],
   "source": [
    "query_llm(query_text, prompt, llm=\"Ollama-llama3\")"
   ]
  },
  {
   "cell_type": "code",
   "execution_count": 8,
   "metadata": {},
   "outputs": [
    {
     "data": {
      "text/plain": [
       "'Using the context provided below, elaborate on the roles played by different cell types as if you were creating rules for an agent-based model and factors in muscle repair and regeneration. Structure your response in a table with three columns: 1) Embedding numbers, 2) Source text name, and 3) Detailed roles and interactions of cell types like satellite cells, fibroblasts, macrophages, neutrophils, cytokines, and growth factors. Provide multiple entries for each cell type or cytokine or growth factor mentioned, focusing on their specific effects during the cell cycle phases and their interactions during the process of muscle repair.\\n\\nContext: t'"
      ]
     },
     "execution_count": 8,
     "metadata": {},
     "output_type": "execute_result"
    }
   ],
   "source": [
    "tt = \"t\"\n",
    "prompt_ = prompt + f\"Context: {tt}\"\n",
    "prompt_"
   ]
  },
  {
   "cell_type": "code",
   "execution_count": null,
   "metadata": {},
   "outputs": [],
   "source": []
  }
 ],
 "metadata": {
  "kernelspec": {
   "display_name": "Python 3",
   "language": "python",
   "name": "python3"
  },
  "language_info": {
   "codemirror_mode": {
    "name": "ipython",
    "version": 3
   },
   "file_extension": ".py",
   "mimetype": "text/x-python",
   "name": "python",
   "nbconvert_exporter": "python",
   "pygments_lexer": "ipython3",
   "version": "3.11.9"
  }
 },
 "nbformat": 4,
 "nbformat_minor": 2
}
