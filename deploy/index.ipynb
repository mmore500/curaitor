{
 "cells": [
  {
   "cell_type": "code",
   "execution_count": 1,
   "metadata": {
    "execution": {
     "iopub.execute_input": "2024-06-26T14:27:57.625812Z",
     "iopub.status.busy": "2024-06-26T14:27:57.625628Z",
     "iopub.status.idle": "2024-06-26T14:27:57.862888Z",
     "shell.execute_reply": "2024-06-26T14:27:57.862217Z"
    }
   },
   "outputs": [],
   "source": [
    "import pandas as pd"
   ]
  },
  {
   "cell_type": "markdown",
   "metadata": {},
   "source": [
    "TODO\n"
   ]
  },
  {
   "cell_type": "code",
   "execution_count": 2,
   "metadata": {
    "execution": {
     "iopub.execute_input": "2024-06-26T14:27:57.866038Z",
     "iopub.status.busy": "2024-06-26T14:27:57.865477Z",
     "iopub.status.idle": "2024-06-26T14:27:57.868537Z",
     "shell.execute_reply": "2024-06-26T14:27:57.867954Z"
    }
   },
   "outputs": [],
   "source": [
    "# TODO"
   ]
  }
 ],
 "metadata": {
  "kernelspec": {
   "display_name": "Python 3",
   "language": "python",
   "name": "python3"
  },
  "language_info": {
   "codemirror_mode": {
    "name": "ipython",
    "version": 3
   },
   "file_extension": ".py",
   "mimetype": "text/x-python",
   "name": "python",
   "nbconvert_exporter": "python",
   "pygments_lexer": "ipython3",
   "version": "3.10.12"
  }
 },
 "nbformat": 4,
 "nbformat_minor": 4
}
