{
 "cells": [
  {
   "cell_type": "code",
   "execution_count": 1,
   "metadata": {
    "execution": {
     "iopub.execute_input": "2024-06-25T14:46:17.633211Z",
     "iopub.status.busy": "2024-06-25T14:46:17.633028Z",
     "iopub.status.idle": "2024-06-25T14:46:17.874110Z",
     "shell.execute_reply": "2024-06-25T14:46:17.873583Z"
    }
   },
   "outputs": [],
   "source": [
    "import pandas as pd"
   ]
  },
  {
   "cell_type": "markdown",
   "metadata": {},
   "source": [
    "TODO\n"
   ]
  },
  {
   "cell_type": "code",
   "execution_count": 2,
   "metadata": {
    "execution": {
     "iopub.execute_input": "2024-06-25T14:46:17.876836Z",
     "iopub.status.busy": "2024-06-25T14:46:17.876598Z",
     "iopub.status.idle": "2024-06-25T14:46:17.879345Z",
     "shell.execute_reply": "2024-06-25T14:46:17.878878Z"
    }
   },
   "outputs": [],
   "source": [
    "# TODO"
   ]
  }
 ],
 "metadata": {
  "kernelspec": {
   "display_name": "Python 3",
   "language": "python",
   "name": "python3"
  },
  "language_info": {
   "codemirror_mode": {
    "name": "ipython",
    "version": 3
   },
   "file_extension": ".py",
   "mimetype": "text/x-python",
   "name": "python",
   "nbconvert_exporter": "python",
   "pygments_lexer": "ipython3",
   "version": "3.10.12"
  }
 },
 "nbformat": 4,
 "nbformat_minor": 4
}
