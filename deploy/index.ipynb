{
 "cells": [
  {
   "cell_type": "code",
   "execution_count": 1,
   "metadata": {
    "execution": {
     "iopub.execute_input": "2024-06-26T11:48:35.348207Z",
     "iopub.status.busy": "2024-06-26T11:48:35.347979Z",
     "iopub.status.idle": "2024-06-26T11:48:35.576394Z",
     "shell.execute_reply": "2024-06-26T11:48:35.575665Z"
    }
   },
   "outputs": [],
   "source": [
    "import pandas as pd"
   ]
  },
  {
   "cell_type": "markdown",
   "metadata": {},
   "source": [
    "TODO\n"
   ]
  },
  {
   "cell_type": "code",
   "execution_count": 2,
   "metadata": {
    "execution": {
     "iopub.execute_input": "2024-06-26T11:48:35.579528Z",
     "iopub.status.busy": "2024-06-26T11:48:35.579018Z",
     "iopub.status.idle": "2024-06-26T11:48:35.581860Z",
     "shell.execute_reply": "2024-06-26T11:48:35.581287Z"
    }
   },
   "outputs": [],
   "source": [
    "# TODO"
   ]
  }
 ],
 "metadata": {
  "kernelspec": {
   "display_name": "Python 3",
   "language": "python",
   "name": "python3"
  },
  "language_info": {
   "codemirror_mode": {
    "name": "ipython",
    "version": 3
   },
   "file_extension": ".py",
   "mimetype": "text/x-python",
   "name": "python",
   "nbconvert_exporter": "python",
   "pygments_lexer": "ipython3",
   "version": "3.10.12"
  }
 },
 "nbformat": 4,
 "nbformat_minor": 4
}
