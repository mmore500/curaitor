{
 "cells": [
  {
   "cell_type": "code",
   "execution_count": 1,
   "metadata": {
    "execution": {
     "iopub.execute_input": "2024-06-26T15:58:56.040694Z",
     "iopub.status.busy": "2024-06-26T15:58:56.040520Z",
     "iopub.status.idle": "2024-06-26T15:58:56.305382Z",
     "shell.execute_reply": "2024-06-26T15:58:56.304873Z"
    }
   },
   "outputs": [],
   "source": [
    "import pandas as pd"
   ]
  },
  {
   "cell_type": "markdown",
   "metadata": {},
   "source": [
    "TODO\n"
   ]
  },
  {
   "cell_type": "code",
   "execution_count": 2,
   "metadata": {
    "execution": {
     "iopub.execute_input": "2024-06-26T15:58:56.307984Z",
     "iopub.status.busy": "2024-06-26T15:58:56.307717Z",
     "iopub.status.idle": "2024-06-26T15:58:56.310509Z",
     "shell.execute_reply": "2024-06-26T15:58:56.310051Z"
    }
   },
   "outputs": [],
   "source": [
    "# TODO"
   ]
  }
 ],
 "metadata": {
  "kernelspec": {
   "display_name": "Python 3",
   "language": "python",
   "name": "python3"
  },
  "language_info": {
   "codemirror_mode": {
    "name": "ipython",
    "version": 3
   },
   "file_extension": ".py",
   "mimetype": "text/x-python",
   "name": "python",
   "nbconvert_exporter": "python",
   "pygments_lexer": "ipython3",
   "version": "3.11.9"
  }
 },
 "nbformat": 4,
 "nbformat_minor": 4
}
