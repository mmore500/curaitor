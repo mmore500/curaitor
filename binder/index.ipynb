{
 "cells": [
  {
   "cell_type": "code",
   "execution_count": 1,
   "metadata": {
    "execution": {
     "iopub.execute_input": "2024-12-29T00:35:03.104297Z",
     "iopub.status.busy": "2024-12-29T00:35:03.104112Z",
     "iopub.status.idle": "2024-12-29T00:35:03.655184Z",
     "shell.execute_reply": "2024-12-29T00:35:03.654658Z"
    }
   },
   "outputs": [],
   "source": [
    "import pandas as pd"
   ]
  },
  {
   "cell_type": "markdown",
   "metadata": {},
   "source": [
    "TODO\n"
   ]
  },
  {
   "cell_type": "code",
   "execution_count": 2,
   "metadata": {
    "execution": {
     "iopub.execute_input": "2024-12-29T00:35:03.657712Z",
     "iopub.status.busy": "2024-12-29T00:35:03.657483Z",
     "iopub.status.idle": "2024-12-29T00:35:03.660017Z",
     "shell.execute_reply": "2024-12-29T00:35:03.659556Z"
    }
   },
   "outputs": [],
   "source": [
    "# TODO"
   ]
  }
 ],
 "metadata": {
  "kernelspec": {
   "display_name": "Python 3",
   "language": "python",
   "name": "python3"
  },
  "language_info": {
   "codemirror_mode": {
    "name": "ipython",
    "version": 3
   },
   "file_extension": ".py",
   "mimetype": "text/x-python",
   "name": "python",
   "nbconvert_exporter": "python",
   "pygments_lexer": "ipython3",
   "version": "3.11.11"
  }
 },
 "nbformat": 4,
 "nbformat_minor": 4
}
