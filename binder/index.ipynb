{
 "cells": [
  {
   "cell_type": "code",
   "execution_count": 1,
   "metadata": {
    "execution": {
     "iopub.execute_input": "2024-06-26T13:15:52.503105Z",
     "iopub.status.busy": "2024-06-26T13:15:52.502669Z",
     "iopub.status.idle": "2024-06-26T13:15:52.811407Z",
     "shell.execute_reply": "2024-06-26T13:15:52.810858Z"
    }
   },
   "outputs": [],
   "source": [
    "import pandas as pd"
   ]
  },
  {
   "cell_type": "markdown",
   "metadata": {},
   "source": [
    "TODO\n"
   ]
  },
  {
   "cell_type": "code",
   "execution_count": 2,
   "metadata": {
    "execution": {
     "iopub.execute_input": "2024-06-26T13:15:52.814365Z",
     "iopub.status.busy": "2024-06-26T13:15:52.813879Z",
     "iopub.status.idle": "2024-06-26T13:15:52.816641Z",
     "shell.execute_reply": "2024-06-26T13:15:52.816084Z"
    }
   },
   "outputs": [],
   "source": [
    "# TODO"
   ]
  }
 ],
 "metadata": {
  "kernelspec": {
   "display_name": "Python 3",
   "language": "python",
   "name": "python3"
  },
  "language_info": {
   "codemirror_mode": {
    "name": "ipython",
    "version": 3
   },
   "file_extension": ".py",
   "mimetype": "text/x-python",
   "name": "python",
   "nbconvert_exporter": "python",
   "pygments_lexer": "ipython3",
   "version": "3.10.12"
  }
 },
 "nbformat": 4,
 "nbformat_minor": 4
}
