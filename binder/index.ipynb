{
 "cells": [
  {
   "cell_type": "code",
   "execution_count": 1,
   "metadata": {
    "execution": {
     "iopub.execute_input": "2024-08-04T00:28:47.421260Z",
     "iopub.status.busy": "2024-08-04T00:28:47.421089Z",
     "iopub.status.idle": "2024-08-04T00:28:47.736026Z",
     "shell.execute_reply": "2024-08-04T00:28:47.735485Z"
    }
   },
   "outputs": [],
   "source": [
    "import pandas as pd"
   ]
  },
  {
   "cell_type": "markdown",
   "metadata": {},
   "source": [
    "TODO\n"
   ]
  },
  {
   "cell_type": "code",
   "execution_count": 2,
   "metadata": {
    "execution": {
     "iopub.execute_input": "2024-08-04T00:28:47.738865Z",
     "iopub.status.busy": "2024-08-04T00:28:47.738420Z",
     "iopub.status.idle": "2024-08-04T00:28:47.740979Z",
     "shell.execute_reply": "2024-08-04T00:28:47.740482Z"
    }
   },
   "outputs": [],
   "source": [
    "# TODO"
   ]
  }
 ],
 "metadata": {
  "kernelspec": {
   "display_name": "Python 3",
   "language": "python",
   "name": "python3"
  },
  "language_info": {
   "codemirror_mode": {
    "name": "ipython",
    "version": 3
   },
   "file_extension": ".py",
   "mimetype": "text/x-python",
   "name": "python",
   "nbconvert_exporter": "python",
   "pygments_lexer": "ipython3",
   "version": "3.11.9"
  }
 },
 "nbformat": 4,
 "nbformat_minor": 4
}
