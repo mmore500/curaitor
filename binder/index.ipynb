{
 "cells": [
  {
   "cell_type": "code",
   "execution_count": 1,
   "metadata": {
    "execution": {
     "iopub.execute_input": "2024-11-03T00:33:34.688350Z",
     "iopub.status.busy": "2024-11-03T00:33:34.688179Z",
     "iopub.status.idle": "2024-11-03T00:33:35.127232Z",
     "shell.execute_reply": "2024-11-03T00:33:35.126665Z"
    }
   },
   "outputs": [],
   "source": [
    "import pandas as pd"
   ]
  },
  {
   "cell_type": "markdown",
   "metadata": {},
   "source": [
    "TODO\n"
   ]
  },
  {
   "cell_type": "code",
   "execution_count": 2,
   "metadata": {
    "execution": {
     "iopub.execute_input": "2024-11-03T00:33:35.130287Z",
     "iopub.status.busy": "2024-11-03T00:33:35.129688Z",
     "iopub.status.idle": "2024-11-03T00:33:35.132584Z",
     "shell.execute_reply": "2024-11-03T00:33:35.132034Z"
    }
   },
   "outputs": [],
   "source": [
    "# TODO"
   ]
  }
 ],
 "metadata": {
  "kernelspec": {
   "display_name": "Python 3",
   "language": "python",
   "name": "python3"
  },
  "language_info": {
   "codemirror_mode": {
    "name": "ipython",
    "version": 3
   },
   "file_extension": ".py",
   "mimetype": "text/x-python",
   "name": "python",
   "nbconvert_exporter": "python",
   "pygments_lexer": "ipython3",
   "version": "3.11.10"
  }
 },
 "nbformat": 4,
 "nbformat_minor": 4
}
