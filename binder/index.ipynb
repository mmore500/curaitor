{
 "cells": [
  {
   "cell_type": "code",
   "execution_count": 1,
   "metadata": {
    "execution": {
     "iopub.execute_input": "2024-11-24T00:34:01.721713Z",
     "iopub.status.busy": "2024-11-24T00:34:01.721139Z",
     "iopub.status.idle": "2024-11-24T00:34:02.023456Z",
     "shell.execute_reply": "2024-11-24T00:34:02.022947Z"
    }
   },
   "outputs": [],
   "source": [
    "import pandas as pd"
   ]
  },
  {
   "cell_type": "markdown",
   "metadata": {},
   "source": [
    "TODO\n"
   ]
  },
  {
   "cell_type": "code",
   "execution_count": 2,
   "metadata": {
    "execution": {
     "iopub.execute_input": "2024-11-24T00:34:02.026136Z",
     "iopub.status.busy": "2024-11-24T00:34:02.025623Z",
     "iopub.status.idle": "2024-11-24T00:34:02.028388Z",
     "shell.execute_reply": "2024-11-24T00:34:02.027925Z"
    }
   },
   "outputs": [],
   "source": [
    "# TODO"
   ]
  }
 ],
 "metadata": {
  "kernelspec": {
   "display_name": "Python 3",
   "language": "python",
   "name": "python3"
  },
  "language_info": {
   "codemirror_mode": {
    "name": "ipython",
    "version": 3
   },
   "file_extension": ".py",
   "mimetype": "text/x-python",
   "name": "python",
   "nbconvert_exporter": "python",
   "pygments_lexer": "ipython3",
   "version": "3.11.10"
  }
 },
 "nbformat": 4,
 "nbformat_minor": 4
}
