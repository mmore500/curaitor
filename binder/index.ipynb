{
 "cells": [
  {
   "cell_type": "code",
   "execution_count": 1,
   "metadata": {
    "execution": {
     "iopub.execute_input": "2024-06-27T15:50:58.898390Z",
     "iopub.status.busy": "2024-06-27T15:50:58.898222Z",
     "iopub.status.idle": "2024-06-27T15:50:59.247796Z",
     "shell.execute_reply": "2024-06-27T15:50:59.247171Z"
    }
   },
   "outputs": [],
   "source": [
    "import pandas as pd"
   ]
  },
  {
   "cell_type": "markdown",
   "metadata": {},
   "source": [
    "TODO\n"
   ]
  },
  {
   "cell_type": "code",
   "execution_count": 2,
   "metadata": {
    "execution": {
     "iopub.execute_input": "2024-06-27T15:50:59.250747Z",
     "iopub.status.busy": "2024-06-27T15:50:59.250273Z",
     "iopub.status.idle": "2024-06-27T15:50:59.253195Z",
     "shell.execute_reply": "2024-06-27T15:50:59.252614Z"
    }
   },
   "outputs": [],
   "source": [
    "# TODO"
   ]
  }
 ],
 "metadata": {
  "kernelspec": {
   "display_name": "Python 3",
   "language": "python",
   "name": "python3"
  },
  "language_info": {
   "codemirror_mode": {
    "name": "ipython",
    "version": 3
   },
   "file_extension": ".py",
   "mimetype": "text/x-python",
   "name": "python",
   "nbconvert_exporter": "python",
   "pygments_lexer": "ipython3",
   "version": "3.11.9"
  }
 },
 "nbformat": 4,
 "nbformat_minor": 4
}
