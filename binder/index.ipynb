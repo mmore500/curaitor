{
 "cells": [
  {
   "cell_type": "code",
   "execution_count": 1,
   "metadata": {
    "execution": {
     "iopub.execute_input": "2025-02-23T00:32:51.598106Z",
     "iopub.status.busy": "2025-02-23T00:32:51.597935Z",
     "iopub.status.idle": "2025-02-23T00:32:51.993893Z",
     "shell.execute_reply": "2025-02-23T00:32:51.993317Z"
    }
   },
   "outputs": [],
   "source": [
    "import pandas as pd"
   ]
  },
  {
   "cell_type": "markdown",
   "metadata": {},
   "source": [
    "TODO\n"
   ]
  },
  {
   "cell_type": "code",
   "execution_count": 2,
   "metadata": {
    "execution": {
     "iopub.execute_input": "2025-02-23T00:32:51.996570Z",
     "iopub.status.busy": "2025-02-23T00:32:51.996151Z",
     "iopub.status.idle": "2025-02-23T00:32:51.998696Z",
     "shell.execute_reply": "2025-02-23T00:32:51.998223Z"
    }
   },
   "outputs": [],
   "source": [
    "# TODO"
   ]
  }
 ],
 "metadata": {
  "kernelspec": {
   "display_name": "Python 3",
   "language": "python",
   "name": "python3"
  },
  "language_info": {
   "codemirror_mode": {
    "name": "ipython",
    "version": 3
   },
   "file_extension": ".py",
   "mimetype": "text/x-python",
   "name": "python",
   "nbconvert_exporter": "python",
   "pygments_lexer": "ipython3",
   "version": "3.11.11"
  }
 },
 "nbformat": 4,
 "nbformat_minor": 4
}
