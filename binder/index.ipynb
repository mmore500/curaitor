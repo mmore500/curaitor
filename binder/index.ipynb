{
 "cells": [
  {
   "cell_type": "code",
   "execution_count": 1,
   "metadata": {
    "execution": {
     "iopub.execute_input": "2024-09-15T00:31:50.844031Z",
     "iopub.status.busy": "2024-09-15T00:31:50.843539Z",
     "iopub.status.idle": "2024-09-15T00:31:51.167941Z",
     "shell.execute_reply": "2024-09-15T00:31:51.167442Z"
    }
   },
   "outputs": [],
   "source": [
    "import pandas as pd"
   ]
  },
  {
   "cell_type": "markdown",
   "metadata": {},
   "source": [
    "TODO\n"
   ]
  },
  {
   "cell_type": "code",
   "execution_count": 2,
   "metadata": {
    "execution": {
     "iopub.execute_input": "2024-09-15T00:31:51.170677Z",
     "iopub.status.busy": "2024-09-15T00:31:51.170251Z",
     "iopub.status.idle": "2024-09-15T00:31:51.172995Z",
     "shell.execute_reply": "2024-09-15T00:31:51.172529Z"
    }
   },
   "outputs": [],
   "source": [
    "# TODO"
   ]
  }
 ],
 "metadata": {
  "kernelspec": {
   "display_name": "Python 3",
   "language": "python",
   "name": "python3"
  },
  "language_info": {
   "codemirror_mode": {
    "name": "ipython",
    "version": 3
   },
   "file_extension": ".py",
   "mimetype": "text/x-python",
   "name": "python",
   "nbconvert_exporter": "python",
   "pygments_lexer": "ipython3",
   "version": "3.11.9"
  }
 },
 "nbformat": 4,
 "nbformat_minor": 4
}
