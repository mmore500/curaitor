{
 "cells": [
  {
   "cell_type": "code",
   "execution_count": 1,
   "metadata": {
    "execution": {
     "iopub.execute_input": "2024-07-25T10:14:50.025244Z",
     "iopub.status.busy": "2024-07-25T10:14:50.024819Z",
     "iopub.status.idle": "2024-07-25T10:14:50.384463Z",
     "shell.execute_reply": "2024-07-25T10:14:50.383933Z"
    }
   },
   "outputs": [],
   "source": [
    "import pandas as pd"
   ]
  },
  {
   "cell_type": "markdown",
   "metadata": {},
   "source": [
    "TODO\n"
   ]
  },
  {
   "cell_type": "code",
   "execution_count": 2,
   "metadata": {
    "execution": {
     "iopub.execute_input": "2024-07-25T10:14:50.387256Z",
     "iopub.status.busy": "2024-07-25T10:14:50.386831Z",
     "iopub.status.idle": "2024-07-25T10:14:50.389437Z",
     "shell.execute_reply": "2024-07-25T10:14:50.389003Z"
    }
   },
   "outputs": [],
   "source": [
    "# TODO"
   ]
  }
 ],
 "metadata": {
  "kernelspec": {
   "display_name": "Python 3",
   "language": "python",
   "name": "python3"
  },
  "language_info": {
   "codemirror_mode": {
    "name": "ipython",
    "version": 3
   },
   "file_extension": ".py",
   "mimetype": "text/x-python",
   "name": "python",
   "nbconvert_exporter": "python",
   "pygments_lexer": "ipython3",
   "version": "3.11.9"
  }
 },
 "nbformat": 4,
 "nbformat_minor": 4
}
