{
 "cells": [
  {
   "cell_type": "code",
   "execution_count": 1,
   "metadata": {
    "execution": {
     "iopub.execute_input": "2024-10-06T00:32:25.056409Z",
     "iopub.status.busy": "2024-10-06T00:32:25.055861Z",
     "iopub.status.idle": "2024-10-06T00:32:25.425250Z",
     "shell.execute_reply": "2024-10-06T00:32:25.424703Z"
    }
   },
   "outputs": [],
   "source": [
    "import pandas as pd"
   ]
  },
  {
   "cell_type": "markdown",
   "metadata": {},
   "source": [
    "TODO\n"
   ]
  },
  {
   "cell_type": "code",
   "execution_count": 2,
   "metadata": {
    "execution": {
     "iopub.execute_input": "2024-10-06T00:32:25.427977Z",
     "iopub.status.busy": "2024-10-06T00:32:25.427554Z",
     "iopub.status.idle": "2024-10-06T00:32:25.430344Z",
     "shell.execute_reply": "2024-10-06T00:32:25.429775Z"
    }
   },
   "outputs": [],
   "source": [
    "# TODO"
   ]
  }
 ],
 "metadata": {
  "kernelspec": {
   "display_name": "Python 3",
   "language": "python",
   "name": "python3"
  },
  "language_info": {
   "codemirror_mode": {
    "name": "ipython",
    "version": 3
   },
   "file_extension": ".py",
   "mimetype": "text/x-python",
   "name": "python",
   "nbconvert_exporter": "python",
   "pygments_lexer": "ipython3",
   "version": "3.11.10"
  }
 },
 "nbformat": 4,
 "nbformat_minor": 4
}
