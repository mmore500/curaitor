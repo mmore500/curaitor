{
 "cells": [
  {
   "cell_type": "code",
   "execution_count": 1,
   "metadata": {
    "execution": {
     "iopub.execute_input": "2024-11-17T00:33:49.845306Z",
     "iopub.status.busy": "2024-11-17T00:33:49.844882Z",
     "iopub.status.idle": "2024-11-17T00:33:50.157647Z",
     "shell.execute_reply": "2024-11-17T00:33:50.157023Z"
    }
   },
   "outputs": [],
   "source": [
    "import pandas as pd"
   ]
  },
  {
   "cell_type": "markdown",
   "metadata": {},
   "source": [
    "TODO\n"
   ]
  },
  {
   "cell_type": "code",
   "execution_count": 2,
   "metadata": {
    "execution": {
     "iopub.execute_input": "2024-11-17T00:33:50.160492Z",
     "iopub.status.busy": "2024-11-17T00:33:50.160072Z",
     "iopub.status.idle": "2024-11-17T00:33:50.162848Z",
     "shell.execute_reply": "2024-11-17T00:33:50.162366Z"
    }
   },
   "outputs": [],
   "source": [
    "# TODO"
   ]
  }
 ],
 "metadata": {
  "kernelspec": {
   "display_name": "Python 3",
   "language": "python",
   "name": "python3"
  },
  "language_info": {
   "codemirror_mode": {
    "name": "ipython",
    "version": 3
   },
   "file_extension": ".py",
   "mimetype": "text/x-python",
   "name": "python",
   "nbconvert_exporter": "python",
   "pygments_lexer": "ipython3",
   "version": "3.11.10"
  }
 },
 "nbformat": 4,
 "nbformat_minor": 4
}
