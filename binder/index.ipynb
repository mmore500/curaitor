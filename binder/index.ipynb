{
 "cells": [
  {
   "cell_type": "code",
   "execution_count": 1,
   "metadata": {
    "execution": {
     "iopub.execute_input": "2024-06-28T10:10:20.936166Z",
     "iopub.status.busy": "2024-06-28T10:10:20.935997Z",
     "iopub.status.idle": "2024-06-28T10:10:21.239527Z",
     "shell.execute_reply": "2024-06-28T10:10:21.238865Z"
    }
   },
   "outputs": [],
   "source": [
    "import pandas as pd"
   ]
  },
  {
   "cell_type": "markdown",
   "metadata": {},
   "source": [
    "TODO\n"
   ]
  },
  {
   "cell_type": "code",
   "execution_count": 2,
   "metadata": {
    "execution": {
     "iopub.execute_input": "2024-06-28T10:10:21.242370Z",
     "iopub.status.busy": "2024-06-28T10:10:21.241821Z",
     "iopub.status.idle": "2024-06-28T10:10:21.244478Z",
     "shell.execute_reply": "2024-06-28T10:10:21.244033Z"
    }
   },
   "outputs": [],
   "source": [
    "# TODO"
   ]
  }
 ],
 "metadata": {
  "kernelspec": {
   "display_name": "Python 3",
   "language": "python",
   "name": "python3"
  },
  "language_info": {
   "codemirror_mode": {
    "name": "ipython",
    "version": 3
   },
   "file_extension": ".py",
   "mimetype": "text/x-python",
   "name": "python",
   "nbconvert_exporter": "python",
   "pygments_lexer": "ipython3",
   "version": "3.11.9"
  }
 },
 "nbformat": 4,
 "nbformat_minor": 4
}
