{
 "cells": [
  {
   "cell_type": "code",
   "execution_count": 1,
   "metadata": {
    "execution": {
     "iopub.execute_input": "2024-06-27T17:16:43.436541Z",
     "iopub.status.busy": "2024-06-27T17:16:43.436365Z",
     "iopub.status.idle": "2024-06-27T17:16:44.536965Z",
     "shell.execute_reply": "2024-06-27T17:16:44.536414Z"
    }
   },
   "outputs": [
    {
     "name": "stderr",
     "output_type": "stream",
     "text": [
      "None of PyTorch, TensorFlow >= 2.0, or Flax have been found. Models won't be available and only tokenizers, configuration and file/data utilities can be used.\n"
     ]
    }
   ],
   "source": [
    "import os\n",
    "\n",
    "os.makedirs(\"articles/review\", exist_ok=True)\n",
    "\n",
    "from script.cropPage import *\n",
    "from script.textMining import *\n",
    "from script.textSegments import *"
   ]
  },
  {
   "cell_type": "code",
   "execution_count": 2,
   "metadata": {
    "execution": {
     "iopub.execute_input": "2024-06-27T17:16:44.539520Z",
     "iopub.status.busy": "2024-06-27T17:16:44.539074Z",
     "iopub.status.idle": "2024-06-27T17:17:17.675163Z",
     "shell.execute_reply": "2024-06-27T17:17:17.674602Z"
    }
   },
   "outputs": [
    {
     "data": {
      "text/plain": [
       "{'status': 'success'}"
      ]
     },
     "execution_count": 2,
     "metadata": {},
     "output_type": "execute_result"
    }
   ],
   "source": [
    "import ollama\n",
    "\n",
    "ollama.pull(\"llama3\")\n",
    "ollama.pull(\"nomic-embed-text\")"
   ]
  },
  {
   "cell_type": "code",
   "execution_count": 3,
   "metadata": {
    "execution": {
     "iopub.execute_input": "2024-06-27T17:17:17.677466Z",
     "iopub.status.busy": "2024-06-27T17:17:17.677112Z",
     "iopub.status.idle": "2024-06-27T17:17:18.935240Z",
     "shell.execute_reply": "2024-06-27T17:17:18.934602Z"
    }
   },
   "outputs": [],
   "source": [
    "import requests\n",
    "\n",
    "url = \"https://vuir.vu.edu.au/43558/1/Ep43558.pdf\"\n",
    "\n",
    "# Extract filename and append '.pdf'\n",
    "filename = url.split(\"/\")[-1]\n",
    "\n",
    "# Full path where the file will be saved\n",
    "path = os.path.join(\"articles\", filename)\n",
    "\n",
    "# Send a GET request to the URL with headers\n",
    "response = requests.get(url, stream=True)\n",
    "\n",
    "# Save the file if the request was successful\n",
    "assert response.status_code == 200, response.status_code\n",
    "\n",
    "with open(path, \"wb\") as f:\n",
    "    for chunk in response.iter_content(chunk_size=8192):\n",
    "        f.write(chunk)"
   ]
  },
  {
   "cell_type": "markdown",
   "metadata": {},
   "source": [
    "# 1) Crop page\n"
   ]
  },
  {
   "cell_type": "code",
   "execution_count": 4,
   "metadata": {
    "execution": {
     "iopub.execute_input": "2024-06-27T17:17:18.937897Z",
     "iopub.status.busy": "2024-06-27T17:17:18.937524Z",
     "iopub.status.idle": "2024-06-27T17:17:19.831196Z",
     "shell.execute_reply": "2024-06-27T17:17:19.830586Z"
    }
   },
   "outputs": [
    {
     "name": "stderr",
     "output_type": "stream",
     "text": [
      "\r",
      "Processing files:   0%|          | 0/2 [00:00<?, ?it/s]"
     ]
    },
    {
     "name": "stdout",
     "output_type": "stream",
     "text": [
      "articles/Ep43558.pdf\n",
      "document has 20 pages.\n"
     ]
    },
    {
     "name": "stderr",
     "output_type": "stream",
     "text": [
      "\r",
      "Processing files (Processed: 1/2):   0%|          | 0/2 [00:00<?, ?it/s]"
     ]
    },
    {
     "name": "stderr",
     "output_type": "stream",
     "text": [
      "\r",
      "Processing files (Processed: 1/2):  50%|█████     | 1/2 [00:00<00:00,  1.14it/s]"
     ]
    },
    {
     "name": "stderr",
     "output_type": "stream",
     "text": [
      "\r",
      "Processing files (Processed: 2/2):  50%|█████     | 1/2 [00:00<00:00,  1.14it/s]"
     ]
    },
    {
     "name": "stderr",
     "output_type": "stream",
     "text": [
      "\r",
      "Processing files (Processed: 3/2): 100%|██████████| 2/2 [00:00<00:00,  1.14it/s]"
     ]
    },
    {
     "name": "stderr",
     "output_type": "stream",
     "text": [
      "\r",
      "Processing files (Processed: 3/2): : 3it [00:00,  3.41it/s]                     "
     ]
    },
    {
     "name": "stderr",
     "output_type": "stream",
     "text": [
      "\n"
     ]
    }
   ],
   "source": [
    "# Directory containing PDFs to process\n",
    "pdfsDirectory = \"articles\"\n",
    "totalFiles = len(os.listdir(pdfsDirectory))\n",
    "\n",
    "# Output directory for cleaned text files\n",
    "outputDirectory = os.path.join(pdfsDirectory, \"output\")\n",
    "\n",
    "# Crop all PDFs in the directory\n",
    "cropAllPdfs(pdfsDirectory, outputDirectory, totalFiles)\n",
    "\n",
    "# Test single PDF\n",
    "# pdfPath= \"review/1-s2.0-S0143416016300094-main.pdf\"\n",
    "# cropPDFMargins(pdfPath, outputDirectory)"
   ]
  },
  {
   "cell_type": "markdown",
   "metadata": {},
   "source": [
    "# 2) Extract text\n",
    "\n",
    "Table not working yet\n"
   ]
  },
  {
   "cell_type": "code",
   "execution_count": 5,
   "metadata": {
    "execution": {
     "iopub.execute_input": "2024-06-27T17:17:19.833677Z",
     "iopub.status.busy": "2024-06-27T17:17:19.833235Z",
     "iopub.status.idle": "2024-06-27T17:17:21.206446Z",
     "shell.execute_reply": "2024-06-27T17:17:21.205880Z"
    }
   },
   "outputs": [
    {
     "name": "stderr",
     "output_type": "stream",
     "text": [
      "\r",
      "Mining PDFs:   0%|          | 0/1 [00:00<?, ?it/s]"
     ]
    },
    {
     "name": "stdout",
     "output_type": "stream",
     "text": [
      "Ep43558_cropped.pdf\n"
     ]
    },
    {
     "name": "stderr",
     "output_type": "stream",
     "text": [
      "\r",
      "Mining PDFs: 100%|██████████| 1/1 [00:01<00:00,  1.35s/it]"
     ]
    },
    {
     "name": "stderr",
     "output_type": "stream",
     "text": [
      "\r",
      "Mining PDFs: 100%|██████████| 1/1 [00:01<00:00,  1.35s/it]"
     ]
    },
    {
     "name": "stdout",
     "output_type": "stream",
     "text": [
      "Cleaned text has been written to file: articles/output/textOutput/Ep43558_cropped_output_text.txt\n",
      "Cleaning Ep43558_cropped_output_text.txt...\n",
      "Ep43558_cropped_output_text.txt has been cleaned.\n"
     ]
    },
    {
     "name": "stderr",
     "output_type": "stream",
     "text": [
      "\n"
     ]
    }
   ],
   "source": [
    "# Directory containing your text files\n",
    "text_files_directory = \"articles/output/textOutput\"\n",
    "\n",
    "# Directory containing PDFs to process\n",
    "pdfs_directory = \"articles/output\"\n",
    "\n",
    "# Output directory for cleaned text files\n",
    "output_directory = os.path.join(pdfs_directory, \"textOutput\")\n",
    "\n",
    "# Process all PDFs in the directory\n",
    "process_all_pdfs(pdfs_directory, output_directory)\n",
    "process_text_files(text_files_directory)"
   ]
  },
  {
   "cell_type": "markdown",
   "metadata": {},
   "source": [
    "# 3) Text segment\n",
    "\n",
    "Get embeddings\n"
   ]
  },
  {
   "cell_type": "code",
   "execution_count": 6,
   "metadata": {
    "execution": {
     "iopub.execute_input": "2024-06-27T17:17:21.209105Z",
     "iopub.status.busy": "2024-06-27T17:17:21.208716Z",
     "iopub.status.idle": "2024-06-27T17:18:18.814022Z",
     "shell.execute_reply": "2024-06-27T17:18:18.813329Z"
    }
   },
   "outputs": [
    {
     "name": "stderr",
     "output_type": "stream",
     "text": [
      "\r",
      "Processing files:   0%|          | 0/1 [00:00<?, ?it/s]"
     ]
    },
    {
     "name": "stderr",
     "output_type": "stream",
     "text": [
      "\r",
      "Processing files: 100%|██████████| 1/1 [00:00<00:00,  1.41it/s]"
     ]
    },
    {
     "name": "stderr",
     "output_type": "stream",
     "text": [
      "\r",
      "Processing files: 100%|██████████| 1/1 [00:00<00:00,  1.41it/s]"
     ]
    },
    {
     "name": "stderr",
     "output_type": "stream",
     "text": [
      "\n"
     ]
    },
    {
     "name": "stdout",
     "output_type": "stream",
     "text": [
      "Adding embeddings...\n"
     ]
    },
    {
     "name": "stdout",
     "output_type": "stream",
     "text": [
      "Saving data...\n",
      "Data saved successfully.\n"
     ]
    }
   ],
   "source": [
    "# List of PDF file names\n",
    "txt_directory = \"articles/output/textOutput\"\n",
    "output_text_directory = \"text_output\"\n",
    "# Configure OpenAI API key\n",
    "key_file_path = \"api_key\"\n",
    "\n",
    "if \"OPENAI_API_KEY\" in os.environ:\n",
    "    with open(key_file_path, \"w\") as f:\n",
    "        f.write(os.environ[\"OPENAI_API_KEY\"])\n",
    "\n",
    "process_files(\n",
    "    txt_directory, output_text_directory, key_file_path, llm=\"Ollama\"\n",
    ")"
   ]
  },
  {
   "cell_type": "markdown",
   "metadata": {},
   "source": [
    "# 4) Query text\n"
   ]
  }
 ],
 "metadata": {
  "kernelspec": {
   "display_name": "Python 3",
   "language": "python",
   "name": "python3"
  },
  "language_info": {
   "codemirror_mode": {
    "name": "ipython",
    "version": 3
   },
   "file_extension": ".py",
   "mimetype": "text/x-python",
   "name": "python",
   "nbconvert_exporter": "python",
   "pygments_lexer": "ipython3",
   "version": "3.11.9"
  }
 },
 "nbformat": 4,
 "nbformat_minor": 2
}
