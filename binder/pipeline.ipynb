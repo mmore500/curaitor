{
 "cells": [
  {
   "cell_type": "code",
   "execution_count": 1,
   "metadata": {
    "execution": {
     "iopub.execute_input": "2024-06-28T11:49:16.397939Z",
     "iopub.status.busy": "2024-06-28T11:49:16.397772Z",
     "iopub.status.idle": "2024-06-28T11:49:17.754211Z",
     "shell.execute_reply": "2024-06-28T11:49:17.753604Z"
    }
   },
   "outputs": [
    {
     "name": "stderr",
     "output_type": "stream",
     "text": [
      "None of PyTorch, TensorFlow >= 2.0, or Flax have been found. Models won't be available and only tokenizers, configuration and file/data utilities can be used.\n"
     ]
    }
   ],
   "source": [
    "import glob\n",
    "import os\n",
    "import shutil\n",
    "\n",
    "shutil.rmtree(\"articles\", ignore_errors=True)\n",
    "os.makedirs(\"articles\", exist_ok=True)\n",
    "\n",
    "from script.cropPage import *\n",
    "from script.textMining import *\n",
    "from script.textSegments import *"
   ]
  },
  {
   "cell_type": "code",
   "execution_count": 2,
   "metadata": {
    "execution": {
     "iopub.execute_input": "2024-06-28T11:49:17.757184Z",
     "iopub.status.busy": "2024-06-28T11:49:17.756607Z",
     "iopub.status.idle": "2024-06-28T11:49:47.695455Z",
     "shell.execute_reply": "2024-06-28T11:49:47.694843Z"
    }
   },
   "outputs": [
    {
     "data": {
      "text/plain": [
       "{'status': 'success'}"
      ]
     },
     "execution_count": 2,
     "metadata": {},
     "output_type": "execute_result"
    }
   ],
   "source": [
    "import ollama\n",
    "\n",
    "ollama.pull(\"llama3\")\n",
    "ollama.pull(\"nomic-embed-text\")"
   ]
  },
  {
   "cell_type": "code",
   "execution_count": 3,
   "metadata": {
    "execution": {
     "iopub.execute_input": "2024-06-28T11:49:47.697844Z",
     "iopub.status.busy": "2024-06-28T11:49:47.697423Z",
     "iopub.status.idle": "2024-06-28T11:49:49.265898Z",
     "shell.execute_reply": "2024-06-28T11:49:49.264537Z"
    }
   },
   "outputs": [],
   "source": [
    "import requests\n",
    "\n",
    "url = \"https://vuir.vu.edu.au/43558/1/Ep43558.pdf\"\n",
    "\n",
    "# Extract filename and append '.pdf'\n",
    "filename = url.split(\"/\")[-1]\n",
    "\n",
    "# Full path where the file will be saved\n",
    "path = os.path.join(\"articles\", filename)\n",
    "\n",
    "# Send a GET request to the URL with headers\n",
    "response = requests.get(url, stream=True)\n",
    "\n",
    "# Save the file if the request was successful\n",
    "assert response.status_code == 200, response.status_code\n",
    "\n",
    "with open(path, \"wb\") as f:\n",
    "    for chunk in response.iter_content(chunk_size=8192):\n",
    "        f.write(chunk)"
   ]
  },
  {
   "cell_type": "markdown",
   "metadata": {},
   "source": [
    "# 1) Crop page\n"
   ]
  },
  {
   "cell_type": "code",
   "execution_count": 4,
   "metadata": {
    "execution": {
     "iopub.execute_input": "2024-06-28T11:49:49.269919Z",
     "iopub.status.busy": "2024-06-28T11:49:49.269604Z",
     "iopub.status.idle": "2024-06-28T11:49:50.212209Z",
     "shell.execute_reply": "2024-06-28T11:49:50.211604Z"
    }
   },
   "outputs": [
    {
     "name": "stderr",
     "output_type": "stream",
     "text": [
      "\r",
      "Processing files:   0%|          | 0/1 [00:00<?, ?it/s]"
     ]
    },
    {
     "name": "stdout",
     "output_type": "stream",
     "text": [
      "document has 20 pages.\n"
     ]
    },
    {
     "name": "stderr",
     "output_type": "stream",
     "text": [
      "\r",
      "Processing files (Processed: 1/1):   0%|          | 0/1 [00:00<?, ?it/s]"
     ]
    },
    {
     "name": "stderr",
     "output_type": "stream",
     "text": [
      "\r",
      "Processing files (Processed: 1/1): 100%|██████████| 1/1 [00:00<00:00,  1.12it/s]"
     ]
    },
    {
     "name": "stderr",
     "output_type": "stream",
     "text": [
      "\r",
      "Processing files (Processed: 1/1): 100%|██████████| 1/1 [00:00<00:00,  1.12it/s]"
     ]
    },
    {
     "name": "stderr",
     "output_type": "stream",
     "text": [
      "\n"
     ]
    }
   ],
   "source": [
    "# Directory containing PDFs to process\n",
    "pdfsDirectory = \"articles\"\n",
    "pdfFiles = [\n",
    "    f\n",
    "    for f in os.listdir(pdfsDirectory)\n",
    "    if os.path.isfile(os.path.join(pdfsDirectory, f))\n",
    "]\n",
    "totalFiles = len(pdfFiles)\n",
    "\n",
    "# Output directory for cleaned text files\n",
    "outputDirectory = os.path.join(pdfsDirectory, \"\")\n",
    "\n",
    "# Crop all PDFs in the directory\n",
    "cropAllPdfs(pdfFiles, outputDirectory, totalFiles)\n",
    "\n",
    "# Test single PDF\n",
    "# pdfPath= \"review/1-s2.0-S0143416016300094-main.pdf\"\n",
    "# cropPDFMargins(pdfPath, outputDirectory)"
   ]
  },
  {
   "cell_type": "code",
   "execution_count": 5,
   "metadata": {
    "execution": {
     "iopub.execute_input": "2024-06-28T11:49:50.214423Z",
     "iopub.status.busy": "2024-06-28T11:49:50.214237Z",
     "iopub.status.idle": "2024-06-28T11:49:50.220386Z",
     "shell.execute_reply": "2024-06-28T11:49:50.219822Z"
    }
   },
   "outputs": [],
   "source": [
    "os.makedirs(\"articles/cropped\", exist_ok=True)\n",
    "for filepath in glob.glob(\"articles/*_cropped.pdf\"):\n",
    "    filename = os.path.basename(filepath)\n",
    "    shutil.copyfile(filepath, f\"articles/cropped/{filename}\")"
   ]
  },
  {
   "cell_type": "code",
   "execution_count": 6,
   "metadata": {
    "execution": {
     "iopub.execute_input": "2024-06-28T11:49:50.222502Z",
     "iopub.status.busy": "2024-06-28T11:49:50.222181Z",
     "iopub.status.idle": "2024-06-28T11:49:50.226060Z",
     "shell.execute_reply": "2024-06-28T11:49:50.225527Z"
    }
   },
   "outputs": [
    {
     "data": {
      "text/plain": [
       "['Ep43558_cropped.pdf']"
      ]
     },
     "execution_count": 6,
     "metadata": {},
     "output_type": "execute_result"
    }
   ],
   "source": [
    "os.listdir(\"articles/cropped\")"
   ]
  },
  {
   "cell_type": "markdown",
   "metadata": {},
   "source": [
    "# 2) Extract text\n",
    "\n",
    "Table not working yet\n"
   ]
  },
  {
   "cell_type": "code",
   "execution_count": 7,
   "metadata": {
    "execution": {
     "iopub.execute_input": "2024-06-28T11:49:50.228096Z",
     "iopub.status.busy": "2024-06-28T11:49:50.227783Z",
     "iopub.status.idle": "2024-06-28T11:49:51.380211Z",
     "shell.execute_reply": "2024-06-28T11:49:51.379634Z"
    }
   },
   "outputs": [
    {
     "name": "stderr",
     "output_type": "stream",
     "text": [
      "\r",
      "Mining PDFs:   0%|          | 0/1 [00:00<?, ?it/s]"
     ]
    },
    {
     "name": "stdout",
     "output_type": "stream",
     "text": [
      "Ep43558_cropped.pdf\n"
     ]
    },
    {
     "name": "stderr",
     "output_type": "stream",
     "text": [
      "\r",
      "Mining PDFs: 100%|██████████| 1/1 [00:01<00:00,  1.13s/it]"
     ]
    },
    {
     "name": "stderr",
     "output_type": "stream",
     "text": [
      "\r",
      "Mining PDFs: 100%|██████████| 1/1 [00:01<00:00,  1.13s/it]"
     ]
    },
    {
     "name": "stdout",
     "output_type": "stream",
     "text": [
      "Cleaned text has been written to file: articles/cropped/textOutput/Ep43558_cropped_output_text.txt\n",
      "Cleaning Ep43558_cropped_output_text.txt...\n",
      "Ep43558_cropped_output_text.txt has been cleaned.\n"
     ]
    },
    {
     "name": "stderr",
     "output_type": "stream",
     "text": [
      "\n"
     ]
    }
   ],
   "source": [
    "# Directory containing your text files\n",
    "text_files_directory = \"articles/cropped/textOutput\"\n",
    "\n",
    "# Directory containing PDFs to process\n",
    "pdfs_directory = \"articles/cropped\"\n",
    "\n",
    "# Output directory for cleaned text files\n",
    "output_directory = os.path.join(pdfs_directory, \"textOutput\")\n",
    "\n",
    "# Process all PDFs in the directory\n",
    "process_all_pdfs(pdfs_directory, output_directory)\n",
    "process_text_files(text_files_directory)"
   ]
  },
  {
   "cell_type": "code",
   "execution_count": 8,
   "metadata": {
    "execution": {
     "iopub.execute_input": "2024-06-28T11:49:51.382419Z",
     "iopub.status.busy": "2024-06-28T11:49:51.382130Z",
     "iopub.status.idle": "2024-06-28T11:49:51.386004Z",
     "shell.execute_reply": "2024-06-28T11:49:51.385551Z"
    }
   },
   "outputs": [
    {
     "data": {
      "text/plain": [
       "['Ep43558_cropped.pdf', 'textOutput']"
      ]
     },
     "execution_count": 8,
     "metadata": {},
     "output_type": "execute_result"
    }
   ],
   "source": [
    "os.listdir(\"articles/cropped\")"
   ]
  },
  {
   "cell_type": "markdown",
   "metadata": {},
   "source": [
    "# 3) Text segment\n",
    "\n",
    "Get embeddings\n"
   ]
  },
  {
   "cell_type": "code",
   "execution_count": 9,
   "metadata": {
    "execution": {
     "iopub.execute_input": "2024-06-28T11:49:51.388074Z",
     "iopub.status.busy": "2024-06-28T11:49:51.387761Z",
     "iopub.status.idle": "2024-06-28T11:50:48.732346Z",
     "shell.execute_reply": "2024-06-28T11:50:48.731781Z"
    }
   },
   "outputs": [
    {
     "name": "stderr",
     "output_type": "stream",
     "text": [
      "\r",
      "Processing files:   0%|          | 0/1 [00:00<?, ?it/s]"
     ]
    },
    {
     "name": "stderr",
     "output_type": "stream",
     "text": [
      "\r",
      "Processing files: 100%|██████████| 1/1 [00:00<00:00,  1.23it/s]"
     ]
    },
    {
     "name": "stderr",
     "output_type": "stream",
     "text": [
      "\r",
      "Processing files: 100%|██████████| 1/1 [00:00<00:00,  1.23it/s]"
     ]
    },
    {
     "name": "stderr",
     "output_type": "stream",
     "text": [
      "\n"
     ]
    },
    {
     "name": "stdout",
     "output_type": "stream",
     "text": [
      "Adding embeddings...\n"
     ]
    },
    {
     "name": "stdout",
     "output_type": "stream",
     "text": [
      "Saving data...\n",
      "Data saved successfully.\n"
     ]
    }
   ],
   "source": [
    "# List of PDF file names\n",
    "txt_directory = \"articles/cropped/textOutput\"\n",
    "output_text_directory = \"text_output\"\n",
    "# Configure OpenAI API key\n",
    "key_file_path = \"api_key\"\n",
    "\n",
    "if \"OPENAI_API_KEY\" in os.environ:\n",
    "    with open(key_file_path, \"w\") as f:\n",
    "        f.write(os.environ[\"OPENAI_API_KEY\"])\n",
    "\n",
    "process_files(\n",
    "    txt_directory, output_text_directory, key_file_path, llm=\"Ollama\"\n",
    ")"
   ]
  },
  {
   "cell_type": "markdown",
   "metadata": {},
   "source": [
    "# 4) Query text\n"
   ]
  }
 ],
 "metadata": {
  "kernelspec": {
   "display_name": "Python 3",
   "language": "python",
   "name": "python3"
  },
  "language_info": {
   "codemirror_mode": {
    "name": "ipython",
    "version": 3
   },
   "file_extension": ".py",
   "mimetype": "text/x-python",
   "name": "python",
   "nbconvert_exporter": "python",
   "pygments_lexer": "ipython3",
   "version": "3.11.9"
  }
 },
 "nbformat": 4,
 "nbformat_minor": 2
}
